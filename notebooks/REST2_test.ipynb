{
 "cells": [
  {
   "cell_type": "markdown",
   "metadata": {},
   "source": [
    "here i attempt to write a REST2 factory for a canonical openmm.system (i.e. containing `HarmonicBondForce`, `HarmonicAngleForce`, `PeriodicTorsionForce`, `NonbondedForce`)"
   ]
  },
  {
   "cell_type": "code",
   "execution_count": 1,
   "metadata": {},
   "outputs": [],
   "source": [
    "from openmmtools.testsystems import AlanineDipeptideVacuum"
   ]
  },
  {
   "cell_type": "markdown",
   "metadata": {},
   "source": [
    "define a vacuum alanine dipeptide"
   ]
  },
  {
   "cell_type": "code",
   "execution_count": 2,
   "metadata": {},
   "outputs": [],
   "source": [
    "ala = AlanineDipeptideVacuum()\n",
    "sys = ala.system"
   ]
  },
  {
   "cell_type": "code",
   "execution_count": 3,
   "metadata": {},
   "outputs": [],
   "source": [
    "from perses.annihilation.rest import RESTTopologyFactory"
   ]
  },
  {
   "cell_type": "markdown",
   "metadata": {},
   "source": [
    "query the topology"
   ]
  },
  {
   "cell_type": "code",
   "execution_count": 4,
   "metadata": {},
   "outputs": [
    {
     "name": "stdout",
     "output_type": "stream",
     "text": [
      "<Atom 0 (H1) of chain 0 residue 0 (ACE)>\n",
      "<Atom 1 (CH3) of chain 0 residue 0 (ACE)>\n",
      "<Atom 2 (H2) of chain 0 residue 0 (ACE)>\n",
      "<Atom 3 (H3) of chain 0 residue 0 (ACE)>\n",
      "<Atom 4 (C) of chain 0 residue 0 (ACE)>\n",
      "<Atom 5 (O) of chain 0 residue 0 (ACE)>\n",
      "<Atom 6 (N) of chain 0 residue 1 (ALA)>\n",
      "<Atom 7 (H) of chain 0 residue 1 (ALA)>\n",
      "<Atom 8 (CA) of chain 0 residue 1 (ALA)>\n",
      "<Atom 9 (HA) of chain 0 residue 1 (ALA)>\n",
      "<Atom 10 (CB) of chain 0 residue 1 (ALA)>\n",
      "<Atom 11 (HB1) of chain 0 residue 1 (ALA)>\n",
      "<Atom 12 (HB2) of chain 0 residue 1 (ALA)>\n",
      "<Atom 13 (HB3) of chain 0 residue 1 (ALA)>\n",
      "<Atom 14 (C) of chain 0 residue 1 (ALA)>\n",
      "<Atom 15 (O) of chain 0 residue 1 (ALA)>\n",
      "<Atom 16 (N) of chain 0 residue 2 (NME)>\n",
      "<Atom 17 (H) of chain 0 residue 2 (NME)>\n",
      "<Atom 18 (C) of chain 0 residue 2 (NME)>\n",
      "<Atom 19 (H1) of chain 0 residue 2 (NME)>\n",
      "<Atom 20 (H2) of chain 0 residue 2 (NME)>\n",
      "<Atom 21 (H3) of chain 0 residue 2 (NME)>\n"
     ]
    }
   ],
   "source": [
    "ala.topology\n",
    "for atom in ala.topology.atoms():\n",
    "    print(atom)"
   ]
  },
  {
   "cell_type": "markdown",
   "metadata": {},
   "source": [
    "I'll make the ALA residue 'solute' for REST2"
   ]
  },
  {
   "cell_type": "markdown",
   "metadata": {},
   "source": [
    "remove the `CMMForce`"
   ]
  },
  {
   "cell_type": "code",
   "execution_count": 5,
   "metadata": {},
   "outputs": [],
   "source": [
    "ala.system.removeForce(4)"
   ]
  },
  {
   "cell_type": "markdown",
   "metadata": {},
   "source": [
    "make the factory"
   ]
  },
  {
   "cell_type": "code",
   "execution_count": 6,
   "metadata": {},
   "outputs": [
    {
     "name": "stderr",
     "output_type": "stream",
     "text": [
      "INFO:REST:No MonteCarloBarostat added.\n",
      "INFO:REST:getDefaultPeriodicBoxVectors added to hybrid: [Quantity(value=Vec3(x=2.0, y=0.0, z=0.0), unit=nanometer), Quantity(value=Vec3(x=0.0, y=2.0, z=0.0), unit=nanometer), Quantity(value=Vec3(x=0.0, y=0.0, z=2.0), unit=nanometer)]\n",
      "INFO:REST:No unknown forces.\n"
     ]
    }
   ],
   "source": [
    "factory = RESTTopologyFactory(ala.system, solute_region=list(range(6, 16)))"
   ]
  },
  {
   "cell_type": "markdown",
   "metadata": {},
   "source": [
    "pull the system"
   ]
  },
  {
   "cell_type": "code",
   "execution_count": 7,
   "metadata": {},
   "outputs": [],
   "source": [
    "REST_system = factory.REST_system"
   ]
  },
  {
   "cell_type": "markdown",
   "metadata": {},
   "source": [
    "query the forces to make sure it _looks_ right"
   ]
  },
  {
   "cell_type": "code",
   "execution_count": 8,
   "metadata": {},
   "outputs": [
    {
     "data": {
      "text/plain": [
       "[<simtk.openmm.openmm.CustomBondForce; proxy of <Swig Object of type 'OpenMM::CustomBondForce *' at 0x2afe1d9d3f00> >,\n",
       " <simtk.openmm.openmm.CustomAngleForce; proxy of <Swig Object of type 'OpenMM::CustomAngleForce *' at 0x2afe1d9d3f90> >,\n",
       " <simtk.openmm.openmm.CustomTorsionForce; proxy of <Swig Object of type 'OpenMM::CustomTorsionForce *' at 0x2afe1d9d3ed0> >,\n",
       " <simtk.openmm.openmm.NonbondedForce; proxy of <Swig Object of type 'OpenMM::NonbondedForce *' at 0x2afe1d9d3e70> >,\n",
       " <simtk.openmm.openmm.CustomNonbondedForce; proxy of <Swig Object of type 'OpenMM::CustomNonbondedForce *' at 0x2afe1d9d3ea0> >,\n",
       " <simtk.openmm.openmm.CustomBondForce; proxy of <Swig Object of type 'OpenMM::CustomBondForce *' at 0x2afdec85a8d0> >]"
      ]
     },
     "execution_count": 8,
     "metadata": {},
     "output_type": "execute_result"
    }
   ],
   "source": [
    "REST_system.getForces()"
   ]
  },
  {
   "cell_type": "markdown",
   "metadata": {},
   "source": [
    "all of the nonbonded forces must have the same number of particles"
   ]
  },
  {
   "cell_type": "code",
   "execution_count": 9,
   "metadata": {},
   "outputs": [],
   "source": [
    "num_particles = REST_system.getNumParticles()\n",
    "assert num_particles == factory._out_system_forces['CustomNonbondedForce'].getNumParticles()\n",
    "assert num_particles == factory._out_system_forces['NonbondedForce'].getNumParticles()"
   ]
  },
  {
   "cell_type": "markdown",
   "metadata": {},
   "source": [
    "## TODO:\n",
    "\n",
    "here is a few things that have to be done...\n",
    "\n",
    "- Given the default Global variables, do energy component bookkeeping with the REST system and the original system. Specifically, the first `CustomBondForce` must match the `HarmonicBondForce` (same with the second and third forces with the `HarmonicAngle` and `PeriodicTorsionForce`s). The sum of the `NonbondedForce`, the `CustomNonbondedForce`, and the `CustomBondForce` (last one) must be equal to the energy of the original system's `NonbondedForce`.\n",
    "\n",
    "- Create a subclass of the `AlchemicalState` to implement the appropriate parameters for `solute_scale` and `inter_scale` (which are `GlobalParameters` of the `REST_system`) and perform Repex.\n",
    "\n",
    "- Run REST2!"
   ]
  },
  {
   "cell_type": "markdown",
   "metadata": {},
   "source": [
    "## Run energy component bookkeeping"
   ]
  },
  {
   "cell_type": "code",
   "execution_count": 10,
   "metadata": {},
   "outputs": [
    {
     "name": "stdout",
     "output_type": "stream",
     "text": [
      "conducting subsequent work with the following platform: CUDA\n"
     ]
    }
   ],
   "source": [
    "from openmmtools.states import CompoundThermodynamicState, SamplerState, ThermodynamicState\n",
    "from perses.annihilation.lambda_protocol import RelativeAlchemicalState, LambdaProtocol\n",
    "from openmmtools.integrators import LangevinIntegrator\n",
    "from simtk import unit\n",
    "from openmmtools import cache\n",
    "temp = 300 * unit.kelvin\n",
    "from perses.tests.utils import compute_potential_components\n",
    "import copy\n",
    "from openmmtools.constants import kB\n",
    "beta = 1/(kB * temp)\n",
    "from perses.dispersed.feptasks import minimize\n",
    "from coddiwomple.openmm.states import OpenMMPDFState\n",
    "from perses.dispersed.utils import configure_platform\n",
    "from coddiwomple.openmm.utils import get_dummy_integrator\n",
    "from openmmtools import utils"
   ]
  },
  {
   "cell_type": "code",
   "execution_count": 11,
   "metadata": {},
   "outputs": [
    {
     "name": "stderr",
     "output_type": "stream",
     "text": [
      "INFO:rdkit:Enabling RDKit 2020.09.1 jupyter extensions\n"
     ]
    },
    {
     "data": {
      "application/vnd.jupyter.widget-view+json": {
       "model_id": "156abc520bd04f77948e9780c1fdd3ce",
       "version_major": 2,
       "version_minor": 0
      },
      "text/plain": []
     },
     "metadata": {},
     "output_type": "display_data"
    }
   ],
   "source": [
    "from perses.tests.test_topology_proposal import generate_atp"
   ]
  },
  {
   "cell_type": "markdown",
   "metadata": {},
   "source": [
    "Potential components for the vanilla ala system"
   ]
  },
  {
   "cell_type": "code",
   "execution_count": 12,
   "metadata": {
    "scrolled": true
   },
   "outputs": [
    {
     "name": "stdout",
     "output_type": "stream",
     "text": [
      "conducting subsequent work with the following platform: CUDA\n",
      "conducting subsequent work with the following platform: CUDA\n",
      "[('HarmonicBondForce', 0.5874003195280203), ('HarmonicAngleForce', 1.209485556878217), ('PeriodicTorsionForce', 2.321496276111238), ('NonbondedForce', -50.94914523261006), ('AndersenThermostat', 0.0)]\n"
     ]
    }
   ],
   "source": [
    "thermostate = ThermodynamicState(system=ala.system, temperature=temp)\n",
    "sampler_state = SamplerState(ala.positions, box_vectors = ala.system.getDefaultPeriodicBoxVectors())\n",
    "integrator = get_dummy_integrator()\n",
    "platform = configure_platform(utils.get_fastest_platform().getName())\n",
    "context = thermostate.create_context(integrator, platform=platform)\n",
    "minimize(thermostate, sampler_state)\n",
    "thermostate.reduced_potential(sampler_state)\n",
    "sampler_state.apply_to_context(context)\n",
    "print(compute_potential_components(context, beta=beta))"
   ]
  },
  {
   "cell_type": "markdown",
   "metadata": {},
   "source": [
    "Potential components for the REST system"
   ]
  },
  {
   "cell_type": "code",
   "execution_count": 13,
   "metadata": {},
   "outputs": [
    {
     "name": "stdout",
     "output_type": "stream",
     "text": [
      "conducting subsequent work with the following platform: CUDA\n",
      "conducting subsequent work with the following platform: CUDA\n",
      "[('CustomBondForce', 0.5874003195280203), ('CustomAngleForce', 1.2094855568782168), ('CustomTorsionForce', 2.3214942161284062), ('NonbondedForce', -1.187543685095446), ('CustomNonbondedForce', -133.23778625838835), ('CustomBondForce', 83.4761858046491), ('AndersenThermostat', 0.0)]\n"
     ]
    }
   ],
   "source": [
    "thermostate = ThermodynamicState(system=REST_system, temperature=temp)\n",
    "# Don't re-initialize the sampler state \n",
    "integrator = get_dummy_integrator()\n",
    "platform = configure_platform(utils.get_fastest_platform().getName())\n",
    "context = thermostate.create_context(integrator, platform=platform)\n",
    "# Don't minimize again\n",
    "thermostate.reduced_potential(sampler_state)\n",
    "sampler_state.apply_to_context(context)\n",
    "print(compute_potential_components(context, beta=beta))"
   ]
  },
  {
   "cell_type": "code",
   "execution_count": null,
   "metadata": {},
   "outputs": [],
   "source": [
    "# REST Nonbonded + CustomNonbonded + CustomBond = -50.949"
   ]
  }
 ],
 "metadata": {
  "kernelspec": {
   "display_name": "Python 3",
   "language": "python",
   "name": "python3"
  },
  "language_info": {
   "codemirror_mode": {
    "name": "ipython",
    "version": 3
   },
   "file_extension": ".py",
   "mimetype": "text/x-python",
   "name": "python",
   "nbconvert_exporter": "python",
   "pygments_lexer": "ipython3",
   "version": "3.7.8"
  }
 },
 "nbformat": 4,
 "nbformat_minor": 4
}
