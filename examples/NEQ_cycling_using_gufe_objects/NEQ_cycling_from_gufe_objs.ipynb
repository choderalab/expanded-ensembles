{
 "cells": [
  {
   "cell_type": "code",
   "execution_count": null,
   "id": "95403ec7",
   "metadata": {},
   "outputs": [],
   "source": [
    "from openff.units import unit\n",
    "from perses.protocols.nonequilibrium_cycling import SimulationUnit, ResultUnit\n",
    "from gufe import ChemicalSystem, SmallMoleculeComponent, ProteinComponent, SolventComponent\n",
    "from gufe.mapping.ligandatommapping import LigandAtomMapping\n"
   ]
  },
  {
   "cell_type": "code",
   "execution_count": null,
   "id": "f1af100d",
   "metadata": {},
   "outputs": [],
   "source": [
    "# Receptor\n",
    "protein_comp = ProteinComponent.from_pdb_file(\n",
    "    \"Tyk2_protein.pdb\"\n",
    ")\n",
    "# Ligands\n",
    "ligand_a_comp = SmallMoleculeComponent.from_sdf_file(\n",
    "    'ejm_31.sdf'\n",
    ")\n",
    "ligand_b_comp = SmallMoleculeComponent.from_sdf_file(\n",
    "    'jmc_30.sdf'\n",
    ")\n",
    "# Solvent parameters/components\n",
    "solvent_a_comp = SolventComponent(\n",
    "    ion_concentration=0.15*unit.molar,\n",
    "    positive_ion=\"Na\",\n",
    "    negative_ion=\"Cl\"\n",
    ")\n",
    "solvent_b_comp = SolventComponent(\n",
    "    ion_concentration=0.15*unit.molar,\n",
    "    positive_ion=\"Na\",\n",
    "    negative_ion=\"Cl\"\n",
    ")\n",
    "\n",
    "# Complex system states\n",
    "state_a_complex = {'protein': protein_comp, 'ligand': ligand_a_comp, 'solvent': solvent_a_comp}\n",
    "state_b_complex = {'protein': protein_comp, 'ligand': ligand_b_comp, 'solvent': solvent_b_comp}\n",
    "# Solvent system states\n",
    "state_a_solvent = {\"ligand\": ligand_a_comp, \"solvent\": solvent_a_comp}\n",
    "state_b_solvent = {\"ligand\": ligand_b_comp, \"solvent\": solvent_b_comp}\n",
    "# Vacuum system states\n",
    "state_a_vacuum = {'ligand': ligand_a_comp}\n",
    "state_b_vacuum = {'ligand': ligand_b_comp}\n",
    "\n",
    "# Complex chemical systems\n",
    "system_a_complex = ChemicalSystem(components=state_a_complex)\n",
    "system_b_complex = ChemicalSystem(components=state_b_complex)\n",
    "# Solvent chemical systems\n",
    "system_a_solvent = ChemicalSystem(components=state_a_solvent)\n",
    "system_b_solvent = ChemicalSystem(components=state_b_solvent)\n",
    "# Vacuum chemical systems\n",
    "system_a_vacuum = ChemicalSystem(components=state_a_vacuum)\n",
    "system_b_vacuum = ChemicalSystem(components=state_b_vacuum)\n",
    "\n"
   ]
  },
  {
   "cell_type": "code",
   "execution_count": null,
   "id": "5d417279",
   "metadata": {},
   "outputs": [],
   "source": [
    "# Build gufe mapping object\n",
    "# Manually extracted from perses AtomMapper\n",
    "#    NOTE: perses has a different sense for the mapping so this is \n",
    "#    componentB_to_componentA in gufe terms\n",
    "mapping_dict = {0: 0,\n",
    " 1: 1,\n",
    " 2: 2,\n",
    " 3: 3,\n",
    " 4: 4,\n",
    " 5: 5,\n",
    " 6: 6,\n",
    " 7: 7,\n",
    " 8: 8,\n",
    " 9: 9,\n",
    " 10: 10,\n",
    " 11: 11,\n",
    " 12: 12,\n",
    " 13: 13,\n",
    " 14: 14,\n",
    " 15: 15,\n",
    " 16: 16,\n",
    " 17: 17,\n",
    " 18: 18,\n",
    " 20: 23,\n",
    " 22: 26,\n",
    " 23: 27,\n",
    " 24: 28,\n",
    " 25: 29,\n",
    " 26: 30,\n",
    " 27: 31,\n",
    " 28: 32,\n",
    " 29: 33}\n",
    "mapping = LigandAtomMapping(\n",
    "    componentA=system_a_complex.components['ligand'],\n",
    "    componentB=system_b_complex.components['ligand'],\n",
    "    componentA_to_componentB=mapping_dict)"
   ]
  },
  {
   "cell_type": "code",
   "execution_count": null,
   "id": "c00bf2fc",
   "metadata": {},
   "outputs": [],
   "source": [
    "from openff.units import unit\n",
    "# Build Settings gufe object\n",
    "from gufe.settings.models import (\n",
    "    Settings, \n",
    "    ThermoSettings, \n",
    ")\n",
    "from perses.protocols.settings import NonEqCyclingSettings\n",
    "\n",
    "settings = Settings.get_defaults()\n",
    "settings.thermo_settings.temperature = 300*unit.kelvin\n",
    "settings.protocol_settings = NonEqCyclingSettings(eq_steps=2500, neq_steps=2500, traj_save_frequency=250, work_save_frequency=25)\n",
    "# non_eq_settings = settings.NonEqCyclingSettings()"
   ]
  },
  {
   "cell_type": "code",
   "execution_count": null,
   "id": "d32248ce",
   "metadata": {},
   "outputs": [],
   "source": [
    "settings.json()"
   ]
  },
  {
   "cell_type": "code",
   "execution_count": null,
   "id": "7fa76170",
   "metadata": {},
   "outputs": [],
   "source": [
    "settings.dict()"
   ]
  },
  {
   "cell_type": "code",
   "execution_count": null,
   "id": "a8f3d380",
   "metadata": {},
   "outputs": [],
   "source": [
    "# Running the NonEq Cycling Protocol\n",
    "from perses.protocols.nonequilibrium_cycling import NonEquilibriumCyclingProtocol\n",
    "from gufe.protocols.protocoldag import execute_DAG\n",
    "neq_cycling = NonEquilibriumCyclingProtocol(settings)\n",
    "dag_result = execute_DAG(neq_cycling.create(stateA=system_a_vacuum,\n",
    "                                            stateB=system_b_vacuum,\n",
    "                                            mapping=mapping,\n",
    "                                           )\n",
    "                        )"
   ]
  },
  {
   "cell_type": "code",
   "execution_count": null,
   "id": "60a8d66c",
   "metadata": {},
   "outputs": [],
   "source": [
    "dag_result.ok()"
   ]
  },
  {
   "cell_type": "code",
   "execution_count": null,
   "id": "028b1a00",
   "metadata": {},
   "outputs": [],
   "source": [
    "dag_result.protocol_unit_failures"
   ]
  },
  {
   "cell_type": "code",
   "execution_count": null,
   "id": "4a0a30d5",
   "metadata": {},
   "outputs": [],
   "source": [
    "dag_result.protocol_unit_results[0].outputs"
   ]
  },
  {
   "cell_type": "code",
   "execution_count": null,
   "id": "e4ab73e2",
   "metadata": {},
   "outputs": [],
   "source": [
    "dag_result.protocol_unit_results[1].outputs"
   ]
  },
  {
   "cell_type": "code",
   "execution_count": null,
   "id": "e69953d5",
   "metadata": {},
   "outputs": [],
   "source": [
    "# Checking the default settings and running the protocol with defaults\n",
    "default_neq_cycling = NonEquilibriumCyclingProtocol(NonEquilibriumCyclingProtocol.default_settings())\n",
    "default_dag_result = execute_DAG(default_neq_cycling.create(stateA=system_a_vacuum,\n",
    "                                                            stateB=system_b_vacuum,\n",
    "                                                            mapping=mapping,\n",
    "                                                           )\n",
    "                                )"
   ]
  },
  {
   "cell_type": "markdown",
   "id": "34d5089c",
   "metadata": {},
   "source": [
    "## debugging units"
   ]
  },
  {
   "cell_type": "code",
   "execution_count": null,
   "id": "460141b6",
   "metadata": {
    "scrolled": true
   },
   "outputs": [],
   "source": [
    "# Debugging SimulationUnit\n",
    "simulation = SimulationUnit(state_a=system_a, state_b=system_b, mapping=mapping, settings=settings)\n",
    "result = simulation.execute(shared='/tmp/', **simulation.inputs)\n"
   ]
  },
  {
   "cell_type": "code",
   "execution_count": null,
   "id": "e124d42c",
   "metadata": {},
   "outputs": [],
   "source": [
    "result.ok()"
   ]
  },
  {
   "cell_type": "code",
   "execution_count": null,
   "id": "3b8a335f",
   "metadata": {},
   "outputs": [],
   "source": [
    "print(result.traceback)"
   ]
  },
  {
   "cell_type": "code",
   "execution_count": null,
   "id": "0a05ac88",
   "metadata": {},
   "outputs": [],
   "source": [
    "# GatherUnit -- Results\n",
    "neq_results = ResultUnit(phase=\"vacuum\")\n",
    "# result = neq_results.execute(shared='/tmp/', **neq_results.inputs)\n",
    "result = neq_results.execute(shared='/tmp/', **neq_results.inputs)"
   ]
  },
  {
   "cell_type": "code",
   "execution_count": null,
   "id": "887c4a29",
   "metadata": {},
   "outputs": [],
   "source": [
    "result.outputs"
   ]
  },
  {
   "cell_type": "code",
   "execution_count": null,
   "id": "0e14af4a",
   "metadata": {},
   "outputs": [],
   "source": [
    "failure = dag_result.protocol_unit_failures[0]"
   ]
  },
  {
   "cell_type": "code",
   "execution_count": null,
   "id": "6e091315",
   "metadata": {},
   "outputs": [],
   "source": [
    "print(failure.traceback)"
   ]
  },
  {
   "cell_type": "code",
   "execution_count": null,
   "id": "7c14c054",
   "metadata": {},
   "outputs": [],
   "source": [
    "result_graph = dag_result.result_graph"
   ]
  },
  {
   "cell_type": "code",
   "execution_count": null,
   "id": "811c4f69",
   "metadata": {},
   "outputs": [],
   "source": [
    "result_graph.nodes"
   ]
  },
  {
   "cell_type": "code",
   "execution_count": null,
   "id": "401a4507",
   "metadata": {},
   "outputs": [],
   "source": [
    "dag_result.graph.nodes"
   ]
  },
  {
   "cell_type": "code",
   "execution_count": null,
   "id": "d82b2fde",
   "metadata": {},
   "outputs": [],
   "source": []
  }
 ],
 "metadata": {
  "kernelspec": {
   "display_name": "Python 3 (ipykernel)",
   "language": "python",
   "name": "python3"
  },
  "language_info": {
   "codemirror_mode": {
    "name": "ipython",
    "version": 3
   },
   "file_extension": ".py",
   "mimetype": "text/x-python",
   "name": "python",
   "nbconvert_exporter": "python",
   "pygments_lexer": "ipython3",
   "version": "3.10.6"
  }
 },
 "nbformat": 4,
 "nbformat_minor": 5
}
