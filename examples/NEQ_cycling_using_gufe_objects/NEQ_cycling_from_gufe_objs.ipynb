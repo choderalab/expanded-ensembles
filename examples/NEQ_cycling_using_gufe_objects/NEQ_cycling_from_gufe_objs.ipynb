{
 "cells": [
  {
   "cell_type": "code",
   "execution_count": 1,
   "id": "95403ec7",
   "metadata": {},
   "outputs": [
    {
     "name": "stderr",
     "output_type": "stream",
     "text": [
      "Warning: importing 'simtk.openmm' is deprecated.  Import 'openmm' instead.\n",
      "Level 5:azure.storage.blob._shared.avro.schema:Register new name for 'org.apache.avro.file.Header'\n",
      "Level 5:azure.storage.blob._shared.avro.schema:Register new name for 'org.apache.avro.file.magic'\n",
      "Level 5:azure.storage.blob._shared.avro.schema:Register new name for 'org.apache.avro.file.sync'\n"
     ]
    }
   ],
   "source": [
    "from perses.protocols.nonequilibrium_cycling import SimulationUnit, ResultUnit\n",
    "from gufe import ChemicalSystem, SmallMoleculeComponent, ProteinComponent, SolventComponent\n"
   ]
  },
  {
   "cell_type": "code",
   "execution_count": 2,
   "id": "19178e5f",
   "metadata": {},
   "outputs": [],
   "source": [
    "protein_comp = ProteinComponent.from_pdb_file(\"/home/ijpulidos/workdir/repos/perses/examples/protein-ligand/neq-cycling/Tyk2_protein.pdb\")\n",
    "ligand_a_comp = SmallMoleculeComponent.from_sdf_file('/home/ijpulidos/workdir/repos/perses/examples/protein-ligand/neq-cycling/ejm_31.sdf')\n",
    "ligand_b_comp = SmallMoleculeComponent.from_sdf_file('/home/ijpulidos/workdir/repos/perses/examples/protein-ligand/neq-cycling/jmc_30.sdf')\n",
    "state_a_full = {'protein': protein_comp, 'ligand': ligand_a_comp}\n",
    "state_b_full = {'protein': protein_comp, 'ligand': ligand_b_comp}\n",
    "state_a_ligand = {'ligand': ligand_a_comp}\n",
    "state_b_ligand = {'ligand': ligand_b_comp}\n",
    "\n",
    "system_a = ChemicalSystem(components=state_a_ligand)\n",
    "system_b = ChemicalSystem(components=state_b_ligand)\n"
   ]
  },
  {
   "cell_type": "code",
   "execution_count": 3,
   "id": "35d71fed",
   "metadata": {},
   "outputs": [],
   "source": [
    "# mapping class implementation\n",
    "\n",
    "import gufe\n",
    "from typing import Any, Optional\n",
    "import numpy as np\n",
    "from numpy.typing import NDArray\n",
    "import json\n",
    "\n",
    "class LigandAtomMapping(gufe.AtomMapping):\n",
    "    \"\"\"Simple container with the mapping between two Molecules\n",
    "\n",
    "    \"\"\"\n",
    "    def __init__(\n",
    "        self,\n",
    "        componentA: SmallMoleculeComponent,\n",
    "        componentB: SmallMoleculeComponent,\n",
    "        componentA_to_componentB: dict[int, int],\n",
    "        annotations: Optional[dict[str, Any]] = None,\n",
    "    ):\n",
    "        \"\"\"\n",
    "        Parameters\n",
    "        ----------\n",
    "        componentA, componentB : SmallMoleculeComponent\n",
    "          the ligand molecules on either end of the mapping\n",
    "        componentA_to_componentB : dict[int, int]\n",
    "          correspondence of indices of atoms between the two ligands\n",
    "        annotations : dict[str, Any]\n",
    "          Mapping of annotation identifier to annotation data. Annotations may\n",
    "          contain arbitrary JSON-serializable data. Annotation identifiers\n",
    "          starting with ``ofe-`` may have special meaning in other parts of\n",
    "          OpenFE. ``score`` is a reserved annotation identifier.\n",
    "        \"\"\"\n",
    "        super().__init__(componentA, componentB)\n",
    "        self._compA_to_compB = componentA_to_componentB\n",
    "\n",
    "        if annotations is None:\n",
    "            # TODO: this should be a frozen dict\n",
    "            annotations = {}\n",
    "\n",
    "        self._annotations = annotations\n",
    "\n",
    "    @classmethod\n",
    "    def _defaults(self):\n",
    "        return {}\n",
    "\n",
    "    @property\n",
    "    def componentA_to_componentB(self) -> dict[int, int]:\n",
    "        return dict(self._compA_to_compB)\n",
    "\n",
    "    @property\n",
    "    def componentB_to_componentA(self) -> dict[int, int]:\n",
    "        return {v: k for k, v in self._compA_to_compB.items()}\n",
    "\n",
    "    @property\n",
    "    def componentA_unique(self):\n",
    "        return (i for i in range(self.componentA.to_rdkit().GetNumAtoms())\n",
    "                if i not in self._compA_to_compB)\n",
    "\n",
    "    @property\n",
    "    def componentB_unique(self):\n",
    "        return (i for i in range(self.componentB.to_rdkit().GetNumAtoms())\n",
    "                if i not in self._compA_to_compB.values())\n",
    "\n",
    "    @property\n",
    "    def annotations(self):\n",
    "        # return a copy (including copy of nested)\n",
    "        return json.loads(json.dumps(self._annotations))\n",
    "\n",
    "    def _to_dict(self):\n",
    "        \"\"\"Serialize to dict\"\"\"\n",
    "        return {\n",
    "            # openff serialization doesn't go deep, so stringify at this level\n",
    "            'componentA': json.dumps(self.componentA.to_dict(), sort_keys=True),\n",
    "            'componentB': json.dumps(self.componentB.to_dict(), sort_keys=True),\n",
    "            'componentA_to_componentB': self._compA_to_compB,\n",
    "            'annotations': json.dumps(self.annotations),\n",
    "        }\n",
    "\n",
    "    @classmethod\n",
    "    def _from_dict(cls, d: dict):\n",
    "        \"\"\"Deserialize from dict\"\"\"\n",
    "        # the mapping dict gets mangled sometimes\n",
    "        mapping = d['componentA_to_componentB']\n",
    "        fixed = {int(k): int(v) for k, v in mapping.items()}\n",
    "\n",
    "        return cls(\n",
    "            componentA=SmallMoleculeComponent.from_dict(\n",
    "                json.loads(d['componentA'])),\n",
    "            componentB=SmallMoleculeComponent.from_dict(\n",
    "                json.loads(d['componentB'])),\n",
    "            componentA_to_componentB=fixed,\n",
    "            annotations=json.loads(d['annotations'])\n",
    "        )\n",
    "\n",
    "    def __repr__(self):\n",
    "        return (f\"{self.__class__.__name__}(componentA={self.componentA!r}, \"\n",
    "                f\"componentB={self.componentB!r}, \"\n",
    "                f\"componentA_to_componentB={self._compA_to_compB!r}, \"\n",
    "                f\"annotations={self.annotations!r})\")\n",
    "\n",
    "    def _ipython_display_(self, d2d=None):  # pragma: no-cover\n",
    "        \"\"\"\n",
    "        Visualize atom mapping in a Jupyter Notebook.\n",
    "\n",
    "        Parameters\n",
    "        ---------\n",
    "        d2d : :class:`rdkit.Chem.Draw.rdMolDraw2D.MolDraw2D`\n",
    "            If desired specify an instance of a MolDraw2D object.\n",
    "            Default ``None`` will use the MolDraw2DCairo backend.\n",
    "\n",
    "        Returns\n",
    "        -------\n",
    "        Image: IPython.core.display.Image\n",
    "            Image of the atom map\n",
    "        \"\"\"\n",
    "        from IPython.display import Image, display\n",
    "\n",
    "        return display(Image(draw_mapping(self._compA_to_compB,\n",
    "                                          self.componentA.to_rdkit(),\n",
    "                                          self.componentB.to_rdkit(), d2d)))\n",
    "\n",
    "    def draw_to_file(self, fname: str, d2d=None):\n",
    "        \"\"\"\n",
    "        Save atom map visualization to disk\n",
    "\n",
    "        Parameters\n",
    "        ---------\n",
    "        d2d : :class:`rdkit.Chem.Draw.rdMolDraw2D.MolDraw2D`\n",
    "            If desired specify an instance of a MolDraw2D object.\n",
    "            Default ``None`` will write a .png file using the MolDraw2DCairo\n",
    "            backend.\n",
    "\n",
    "        fname : str\n",
    "            Name of file to save atom map\n",
    "        \"\"\"\n",
    "        data = draw_mapping(self._compA_to_compB, self.componentA.to_rdkit(),\n",
    "                            self.componentB.to_rdkit(), d2d)\n",
    "        if type(data) == bytes:\n",
    "            mode = \"wb\"\n",
    "        else:\n",
    "            mode = \"w\"\n",
    "\n",
    "        with open(fname, mode) as f:\n",
    "            f.write(draw_mapping(self._compA_to_compB, self.componentA.to_rdkit(),\n",
    "                                 self.componentB.to_rdkit(), d2d))\n",
    "\n",
    "    def with_annotations(self, annotations: dict[str, Any]):\n",
    "        \"\"\"Create an new mapping based on this one with extra annotations.\n",
    "\n",
    "        Parameters\n",
    "        ----------\n",
    "        annotations : dict[str, Any]\n",
    "            Annotation update for this mapping. New annotation keys will be\n",
    "            added to the annotations dict; existing keys will be replaced by\n",
    "            the data provided here.\n",
    "        \"\"\"\n",
    "        return self.__class__(\n",
    "            componentA=self.componentA,\n",
    "            componentB=self.componentB,\n",
    "            componentA_to_componentB=self._compA_to_compB,\n",
    "            annotations=dict(**self.annotations, **annotations)\n",
    "        )\n",
    "\n",
    "    def get_distances(self) -> NDArray[np.float64]:\n",
    "        \"\"\"Return the distances between pairs of atoms in the mapping\"\"\"\n",
    "        dists = []\n",
    "        molA = self.componentA.to_rdkit().GetConformer()\n",
    "        molB = self.componentB.to_rdkit().GetConformer()\n",
    "        for i, j in self._compA_to_compB.items():\n",
    "            dA = molA.GetAtomPosition(i)\n",
    "            dB = molB.GetAtomPosition(j)\n",
    "            dists.append(dA.Distance(dB))\n",
    "\n",
    "        return np.array(dists)"
   ]
  },
  {
   "cell_type": "code",
   "execution_count": 4,
   "id": "5d417279",
   "metadata": {},
   "outputs": [],
   "source": [
    "# Build gufe mapping object\n",
    "from gufe.mapping.atom_mapping import AtomMapping\n",
    "# Extracted from perses AtomMapper\n",
    "mapping_dict = {0: 0,\n",
    " 1: 1,\n",
    " 2: 2,\n",
    " 3: 3,\n",
    " 4: 4,\n",
    " 5: 5,\n",
    " 6: 6,\n",
    " 7: 7,\n",
    " 8: 8,\n",
    " 9: 9,\n",
    " 10: 10,\n",
    " 11: 11,\n",
    " 12: 12,\n",
    " 13: 13,\n",
    " 14: 14,\n",
    " 15: 15,\n",
    " 16: 16,\n",
    " 17: 17,\n",
    " 18: 18,\n",
    " 23: 20,\n",
    " 26: 22,\n",
    " 27: 23,\n",
    " 28: 24,\n",
    " 29: 25,\n",
    " 30: 26,\n",
    " 31: 27,\n",
    " 32: 28,\n",
    " 33: 29}\n",
    "mapping = LigandAtomMapping(\n",
    "    componentA=system_a.components['ligand'],\n",
    "    componentB=system_b.components['ligand'],\n",
    "    componentA_to_componentB=mapping_dict)"
   ]
  },
  {
   "cell_type": "code",
   "execution_count": 5,
   "id": "c00bf2fc",
   "metadata": {},
   "outputs": [],
   "source": [
    "from openff.units import unit\n",
    "# Build Settings gufe object\n",
    "from gufe.settings.models import (\n",
    "    Settings, \n",
    "    ThermoSettings, \n",
    "    ForcefieldSettings,\n",
    ")\n",
    "from perses.protocols.settings import NonEqCyclingSettings\n",
    "settings = Settings(\n",
    "    settings_version=0,\n",
    "    forcefield_file=\"foobar.xml\", \n",
    "    forcefield_settings=ForcefieldSettings(),\n",
    "    thermo_settings=ThermoSettings(temperature=300*unit.kelvin),\n",
    "    protocol_settings=NonEqCyclingSettings(),\n",
    ")\n",
    "# non_eq_settings = settings.NonEqCyclingSettings()"
   ]
  },
  {
   "cell_type": "code",
   "execution_count": 6,
   "id": "d32248ce",
   "metadata": {},
   "outputs": [
    {
     "data": {
      "text/plain": [
       "'{\"settings_version\": 0, \"forcefield_file\": \"foobar.xml\", \"forcefield_settings\": {\"date\": null, \"author\": null, \"vdW\": {\"combining_rules\": \"Lorentz-Berthelot\", \"potential\": \"Lennard-Jones-12-6\", \"scale\": {\"scale12\": 0.0, \"scale13\": 0.0, \"scale14\": 0.5, \"scale15\": 1.0}, \"long_range_dispersion\": \"isotropic\", \"cutoff\": 9.0, \"switch_width\": 1.0, \"method\": \"cutoff\"}, \"electrostatics\": {\"periodic_potential\": \"Ewald3D-ConductingBoundary\", \"nonperiodic_potential\": \"Coulomb\", \"exception_potential\": \"Coulomb\", \"scale\": {\"scale12\": 0.0, \"scale13\": 0.0, \"scale14\": 0.833333, \"scale15\": 1.0}, \"cutoff\": null, \"switch_width\": null, \"solvent_dielectric\": null}, \"gbsa\": {\"gb_model\": \"OBC1\", \"solvent_dielectric\": 78.5, \"solute_dielectric\": 1}}, \"thermo_settings\": {\"temperature\": \"{\\\\\"val\\\\\": 300, \\\\\"unit\\\\\": \\\\\"kelvin\\\\\"}\", \"pressure\": null, \"ph\": null, \"redox_potential\": null}, \"protocol_settings\": {\"lambda_functions\": {\"lambda_sterics_core\": \"lambda\", \"lambda_electrostatics_core\": \"lambda\", \"lambda_sterics_insert\": \"select(step(lambda - 0.5), 1.0, 2.0 * lambda)\", \"lambda_sterics_delete\": \"select(step(lambda - 0.5), 2.0 * (lambda - 0.5), 0.0)\", \"lambda_electrostatics_insert\": \"select(step(lambda - 0.5), 2.0 * (lambda - 0.5), 0.0)\", \"lambda_electrostatics_delete\": \"select(step(lambda - 0.5), 1.0, 2.0 * lambda)\", \"lambda_bonds\": \"lambda\", \"lambda_angles\": \"lambda\", \"lambda_torsions\": \"lambda\"}, \"softcore_LJ_v2\": true, \"interpolate_old_and_new_14s\": false, \"phase\": \"vacuum\", \"forcefield_files\": [\"amber/ff14SB.xml\", \"amber/tip3p_standard.xml\", \"amber/tip3p_HFE_multivalent.xml\", \"amber/phosaa10.xml\"], \"small_molecule_forcefield\": \"openff-2.0.0\", \"timestep\": \"{\\\\\"val\\\\\": 4.0, \\\\\"unit\\\\\": \\\\\"femtosecond\\\\\"}\", \"neq_splitting\": \"V R H O R V\", \"eq_steps\": 1000, \"neq_steps\": 100, \"platform\": \"CUDA\", \"save_frequency\": 100}}'"
      ]
     },
     "execution_count": 6,
     "metadata": {},
     "output_type": "execute_result"
    }
   ],
   "source": [
    "settings.json()"
   ]
  },
  {
   "cell_type": "code",
   "execution_count": 7,
   "id": "7fa76170",
   "metadata": {},
   "outputs": [
    {
     "data": {
      "text/plain": [
       "{'settings_version': 0,\n",
       " 'forcefield_file': 'foobar.xml',\n",
       " 'forcefield_settings': {'date': None,\n",
       "  'author': None,\n",
       "  'vdW': {'combining_rules': 'Lorentz-Berthelot',\n",
       "   'potential': 'Lennard-Jones-12-6',\n",
       "   'scale': {'scale12': 0.0, 'scale13': 0.0, 'scale14': 0.5, 'scale15': 1.0},\n",
       "   'long_range_dispersion': 'isotropic',\n",
       "   'cutoff': 9.0,\n",
       "   'switch_width': 1.0,\n",
       "   'method': 'cutoff'},\n",
       "  'electrostatics': {'periodic_potential': 'Ewald3D-ConductingBoundary',\n",
       "   'nonperiodic_potential': 'Coulomb',\n",
       "   'exception_potential': 'Coulomb',\n",
       "   'scale': {'scale12': 0.0,\n",
       "    'scale13': 0.0,\n",
       "    'scale14': 0.833333,\n",
       "    'scale15': 1.0},\n",
       "   'cutoff': None,\n",
       "   'switch_width': None,\n",
       "   'solvent_dielectric': None},\n",
       "  'gbsa': {'gb_model': 'OBC1',\n",
       "   'solvent_dielectric': 78.5,\n",
       "   'solute_dielectric': 1}},\n",
       " 'thermo_settings': {'temperature': 300 <Unit('kelvin')>,\n",
       "  'pressure': None,\n",
       "  'ph': None,\n",
       "  'redox_potential': None},\n",
       " 'protocol_settings': {'lambda_functions': {'lambda_sterics_core': 'lambda',\n",
       "   'lambda_electrostatics_core': 'lambda',\n",
       "   'lambda_sterics_insert': 'select(step(lambda - 0.5), 1.0, 2.0 * lambda)',\n",
       "   'lambda_sterics_delete': 'select(step(lambda - 0.5), 2.0 * (lambda - 0.5), 0.0)',\n",
       "   'lambda_electrostatics_insert': 'select(step(lambda - 0.5), 2.0 * (lambda - 0.5), 0.0)',\n",
       "   'lambda_electrostatics_delete': 'select(step(lambda - 0.5), 1.0, 2.0 * lambda)',\n",
       "   'lambda_bonds': 'lambda',\n",
       "   'lambda_angles': 'lambda',\n",
       "   'lambda_torsions': 'lambda'},\n",
       "  'softcore_LJ_v2': True,\n",
       "  'interpolate_old_and_new_14s': False,\n",
       "  'phase': 'vacuum',\n",
       "  'forcefield_files': ['amber/ff14SB.xml',\n",
       "   'amber/tip3p_standard.xml',\n",
       "   'amber/tip3p_HFE_multivalent.xml',\n",
       "   'amber/phosaa10.xml'],\n",
       "  'small_molecule_forcefield': 'openff-2.0.0',\n",
       "  'timestep': 4.0 <Unit('femtosecond')>,\n",
       "  'neq_splitting': 'V R H O R V',\n",
       "  'eq_steps': 1000,\n",
       "  'neq_steps': 100,\n",
       "  'platform': 'CUDA',\n",
       "  'save_frequency': 100}}"
      ]
     },
     "execution_count": 7,
     "metadata": {},
     "output_type": "execute_result"
    }
   ],
   "source": [
    "settings.dict()"
   ]
  },
  {
   "cell_type": "code",
   "execution_count": 6,
   "id": "460141b6",
   "metadata": {
    "scrolled": true
   },
   "outputs": [
    {
     "name": "stderr",
     "output_type": "stream",
     "text": [
      "2022-11-29 09:21:01,032:(0.00s):utils.openeye:molecule ejm_31                      does not have unique atom names. Generating now...\n",
      "2022-11-29 09:21:01,032:(0.00s):utils.openeye:molecule jmc_30                      does not have unique atom names. Generating now...\n",
      "2022-11-29 09:21:01,033:(0.00s):relative_setup:\t\t\t_hmass: 3 Da.\n",
      "\n",
      "2022-11-29 09:21:01,033:(0.00s):relative_setup:No receptor specified. Assuming non-complex phase.\n",
      "2022-11-29 09:21:01,034:(0.00s):relative_setup:\tsetting both molecule oemol titles to 'MOL'.\n",
      "2022-11-29 09:21:01,035:(0.00s):relative_setup:Created mdtraj topologies for both ligands.\n",
      "2022-11-29 09:21:01,036:(0.00s):relative_setup:Setting non bonded method to PME\n",
      "2022-11-29 09:21:01,037:(0.00s):relative_setup:set MonteCarloBarostat because pressure was specified as 1.0 atm atmospheres\n",
      "2022-11-29 09:21:01,044:(0.01s):relative_setup:PME tolerance: 0.00025\n"
     ]
    },
    {
     "name": "stdout",
     "output_type": "stream",
     "text": [
      "Receptor not found in chemical system. Assuming non-complex phase for system.\n",
      "Receptor not found in chemical system. Assuming non-complex phase for system.\n"
     ]
    },
    {
     "name": "stderr",
     "output_type": "stream",
     "text": [
      "2022-11-29 09:21:01,307:(0.26s):relative_setup:successfully created SystemGenerator to create ligand systems\n",
      "2022-11-29 09:21:01,308:(0.00s):relative_setup:executing SmallMoleculeSetProposalEngine...\n",
      "2022-11-29 09:21:01,309:(0.00s):relative_setup:instantiating FFAllAngleGeometryEngine...\n",
      "2022-11-29 09:21:01,309:(0.00s):relative_setup:Detected solvent...\n",
      "2022-11-29 09:21:01,309:(0.00s):relative_setup:assgning noCutoff to nonbonded_method\n",
      "2022-11-29 09:21:01,310:(0.00s):relative_setup:Removing barostat for vacuum phase\n",
      "2022-11-29 09:21:01,310:(0.00s):relative_setup:Setting nonbondedMethod to NoCutoff for vacuum phase\n",
      "2022-11-29 09:21:01,310:(0.00s):relative_setup:calling SystemGenerator to create ligand systems.\n",
      "2022-11-29 09:21:01,310:(0.00s):relative_setup:No complex or solvent leg, so performing topology proposal for vacuum leg\n",
      "2022-11-29 09:21:01,311:(0.00s):relative_setup:\tSkipping solvation of vacuum perturbation\n",
      "2022-11-29 09:21:01,311:(0.00s):relative_setup:\tparameterizing...\n",
      "2022-11-29 09:21:01,312:(0.00s):openmmforcefields.generators.template_generators:Requested to generate parameters for residue <Residue 0 (MOL) of chain 0>\n",
      "2022-11-29 09:21:01,315:(0.00s):openmmforcefields.generators.template_generators:Generating a residue template for [H]c1c(c(c(c(c1[H])Cl)C(=O)N([H])c2c(c(nc(c2[H])N([H])C(=O)C([H])([H])[H])[H])[H])Cl)[H] using openff-1.0.0\n",
      "/home/ijpulidos/miniconda3/envs/gufe-dev/lib/python3.10/site-packages/openff/interchange/components/interchange.py:339: UserWarning: Automatically up-converting BondHandler from version 0.3 to 0.4. Consider manually upgrading this BondHandler (or <Bonds> section in an OFFXML file) to 0.4 or newer. For more details, see https://openforcefield.github.io/standards/standards/smirnoff/#bonds.\n",
      "  warnings.warn(\n",
      "Warning: Cannot perform Hydrogen sampling with GPU-Omega: GPU-Omega disabled.\n",
      "2022-11-29 09:21:03,749:(2.43s):relative_setup:\tSystem parameterized\n",
      "2022-11-29 09:21:03,750:(0.00s):relative_setup:Both trajectory_directory and trajectory_prefix need to be provided to save .pdb\n",
      "2022-11-29 09:21:03,750:(0.00s):proposal_generator:creating current receptor topology by removing small molecule from current topology...\n",
      "2022-11-29 09:21:03,751:(0.00s):proposal_generator:small molecule start index: 0\n",
      "2022-11-29 09:21:03,751:(0.00s):proposal_generator:small molecule has 32 atoms.\n",
      "2022-11-29 09:21:03,751:(0.00s):proposal_generator:old alchemical atom indices: range(0, 32)\n",
      "2022-11-29 09:21:03,751:(0.00s):proposal_generator:proposed mol detected with smiles [H]c1c(c(c(c(c1[H])Cl)C(=O)N([H])c2c(c(nc(c2[H])N([H])C(=O)C3(C(C3([H])C#N)([H])[H])[H])[H])[H])Cl)[H] and logp_proposal of 0.0\n",
      "2022-11-29 09:21:03,752:(0.00s):proposal_generator:conducting proposal from [H]c1c(c(c(c(c1[H])Cl)C(=O)N([H])c2c(c(nc(c2[H])N([H])C(=O)C([H])([H])[H])[H])[H])Cl)[H] to [H]c1c(c(c(c(c1[H])Cl)C(=O)N([H])c2c(c(nc(c2[H])N([H])C(=O)C3(C(C3([H])C#N)([H])[H])[H])[H])[H])Cl)[H]...\n",
      "2022-11-29 09:21:03,752:(0.00s):proposal_generator:building new topology with proposed molecule and current receptor topology...\n",
      "2022-11-29 09:21:03,752:(0.00s):proposal_generator:\tsetting proposed oemol title to MOL\n",
      "2022-11-29 09:21:03,753:(0.00s):proposal_generator:\tcreating mol topology from oemol...\n",
      "2022-11-29 09:21:03,754:(0.00s):proposal_generator:\tappending current receptor topology to new mol topology...\n",
      "2022-11-29 09:21:03,754:(0.00s):proposal_generator:new molecule has a start index of 0 and 37 atoms.\n",
      "2022-11-29 09:21:03,755:(0.00s):proposal_generator:proceeding to build the new system from the new topology...\n",
      "2022-11-29 09:21:03,755:(0.00s):openmmforcefields.generators.template_generators:Requested to generate parameters for residue <Residue 0 (MOL) of chain 1>\n",
      "2022-11-29 09:21:03,758:(0.00s):openmmforcefields.generators.template_generators:Generating a residue template for [H]c1c(c(c(c(c1[H])Cl)C(=O)N([H])c2c(c(nc(c2[H])N([H])C(=O)[C@@]3([C@](C3([H])[H])([H])C#N)[H])[H])[H])Cl)[H] using openff-1.0.0\n",
      "2022-11-29 09:21:13,828:(10.07s):proposal_generator:determining atom map between old and new molecules...\n",
      "2022-11-29 09:21:13,828:(0.00s):proposal_generator:atom map is pre-determined as {0: 0, 1: 1, 2: 2, 3: 3, 4: 4, 5: 5, 6: 6, 7: 7, 8: 8, 9: 9, 10: 10, 11: 11, 12: 12, 13: 13, 14: 14, 15: 15, 16: 16, 17: 17, 18: 18, 23: 20, 26: 22, 27: 23, 28: 24, 29: 25, 30: 26, 31: 27, 32: 28, 33: 29}\n",
      "2022-11-29 09:21:13,829:(0.00s):proposal_generator:Proposed transformation would delete 4 atoms and create 9 atoms.\n",
      "2022-11-29 09:21:13,829:(0.00s):relative_setup:conducting geometry proposal...\n",
      "2022-11-29 09:21:13,830:(0.00s):geometry:propose: performing forward proposal\n",
      "2022-11-29 09:21:13,831:(0.00s):geometry:propose: unique new atoms detected; proceeding to _logp_propose...\n",
      "2022-11-29 09:21:13,831:(0.00s):geometry:Conducting forward proposal...\n",
      "2022-11-29 09:21:13,832:(0.00s):geometry:Computing proposal order with NetworkX...\n",
      "2022-11-29 09:21:13,842:(0.01s):geometry:number of atoms to be placed: 9\n",
      "2022-11-29 09:21:13,843:(0.00s):geometry:Atom index proposal order is [19, 21, 20, 22, 36, 24, 35, 25, 34]\n",
      "2022-11-29 09:21:13,843:(0.00s):geometry:omitted_bonds: [(20, 21)]\n",
      "2022-11-29 09:21:13,843:(0.00s):geometry:direction of proposal is forward; creating atoms_with_positions and new positions from old system/topology...\n",
      "2022-11-29 09:21:13,850:(0.01s):geometry:creating growth system...\n",
      "2022-11-29 09:21:13,853:(0.00s):geometry:\tcreating bond force...\n",
      "2022-11-29 09:21:13,854:(0.00s):geometry:\tthere are 27 bonds in reference force.\n",
      "2022-11-29 09:21:13,854:(0.00s):geometry:\tcreating angle force...\n",
      "2022-11-29 09:21:13,855:(0.00s):geometry:\tthere are 65 angles in reference force.\n",
      "2022-11-29 09:21:13,856:(0.00s):geometry:\tcreating torsion force...\n",
      "2022-11-29 09:21:13,856:(0.00s):geometry:\tcreating extra torsions force...\n",
      "2022-11-29 09:21:13,856:(0.00s):geometry:\tthere are 153 torsions in reference force.\n",
      "2022-11-29 09:21:13,859:(0.00s):geometry:\tcreating nonbonded force...\n",
      "2022-11-29 09:21:13,860:(0.00s):geometry:\t\tgrabbing reference nonbonded method, cutoff, switching function, switching distance...\n",
      "2022-11-29 09:21:13,860:(0.00s):geometry:\t\tcreating nonbonded exception force (i.e. custom bond for 1,4s)...\n",
      "2022-11-29 09:21:13,860:(0.00s):geometry:\t\tlooping through exceptions calculating growth indices, and adding appropriate interactions to custom bond force.\n",
      "2022-11-29 09:21:13,860:(0.00s):geometry:\t\tthere are 180 in the reference Nonbonded force\n",
      "2022-11-29 09:21:13,867:(0.01s):geometry:Neglected angle terms : []\n",
      "2022-11-29 09:21:13,868:(0.00s):geometry:omitted_growth_terms: {'bonds': [(20, 21)], 'angles': [(19, 20, 21), (19, 21, 20), (20, 21, 22), (20, 21, 25), (21, 20, 34), (21, 20, 35)], 'torsions': [(17, 19, 20, 21), (17, 19, 20, 21), (17, 19, 21, 20), (17, 19, 21, 20), (19, 20, 21, 22), (19, 20, 21, 22), (19, 20, 21, 25), (19, 20, 21, 25), (19, 21, 20, 34), (19, 21, 20, 34), (19, 21, 20, 35), (19, 21, 20, 35), (20, 21, 19, 24), (20, 21, 19, 24), (21, 20, 19, 24), (21, 20, 19, 24), (22, 21, 20, 34), (22, 21, 20, 35), (25, 21, 20, 34), (25, 21, 20, 35)], '1,4s': [(22, 34), (25, 34), (22, 35), (25, 35)]}\n",
      "2022-11-29 09:21:13,868:(0.00s):geometry:extra torsions: {0: (17, 19, 20, 34, [1, Quantity(value=0.8442458753166542, unit=radian), Quantity(value=1200.0, unit=kilocalorie/mole), 9]), 1: (17, 19, 20, 35, [1, Quantity(value=2.938898889753452, unit=radian), Quantity(value=1200.0, unit=kilocalorie/mole), 7]), 2: (21, 19, 20, 34, [1, Quantity(value=-1.0472746123269623, unit=radian), Quantity(value=1200.0, unit=kilocalorie/mole), 9]), 3: (21, 19, 20, 35, [1, Quantity(value=1.0473784021098353, unit=radian), Quantity(value=1200.0, unit=kilocalorie/mole), 7]), 4: (24, 19, 20, 34, [1, Quantity(value=-2.92725438485372, unit=radian), Quantity(value=1200.0, unit=kilocalorie/mole), 9]), 5: (24, 19, 20, 35, [1, Quantity(value=-0.8326013704169224, unit=radian), Quantity(value=1200.0, unit=kilocalorie/mole), 7]), 6: (17, 19, 21, 22, [1, Quantity(value=3.119025474553272, unit=radian), Quantity(value=1200.0, unit=kilocalorie/mole), 4]), 7: (17, 19, 21, 25, [1, Quantity(value=-0.6296141988199375, unit=radian), Quantity(value=1200.0, unit=kilocalorie/mole), 8]), 8: (20, 19, 21, 22, [1, Quantity(value=-1.2576827720042356, unit=radian), Quantity(value=1200.0, unit=kilocalorie/mole), 4]), 9: (20, 19, 21, 25, [1, Quantity(value=1.2768628618021485, unit=radian), Quantity(value=1200.0, unit=kilocalorie/mole), 8]), 10: (24, 19, 21, 22, [1, Quantity(value=0.6081613112894098, unit=radian), Quantity(value=1200.0, unit=kilocalorie/mole), 6]), 11: (24, 19, 21, 25, [1, Quantity(value=-3.1404783620839223, unit=radian), Quantity(value=1200.0, unit=kilocalorie/mole), 8]), 12: (19, 21, 22, 36, [1, Quantity(value=-1.92854371188848, unit=radian), Quantity(value=1200.0, unit=kilocalorie/mole), 5]), 13: (25, 21, 22, 36, [1, Quantity(value=1.8079925957218328, unit=radian), Quantity(value=1200.0, unit=kilocalorie/mole), 8])}\n"
     ]
    },
    {
     "name": "stderr",
     "output_type": "stream",
     "text": [
      "2022-11-29 09:21:13,868:(0.00s):geometry:neglected angle terms include []\n",
      "2022-11-29 09:21:13,869:(0.00s):geometry:log probability choice of torsions and atom order: -11.597854675755533\n",
      "2022-11-29 09:21:13,869:(0.00s):geometry:creating platform, integrators, and contexts; setting growth parameter\n",
      "2022-11-29 09:21:13,876:(0.01s):geometry:setting atoms_with_positions context new positions\n",
      "2022-11-29 09:21:13,880:(0.00s):geometry:There are 9 new atoms\n",
      "2022-11-29 09:21:13,883:(0.00s):geometry:\treduced angle potential = 0.1269853496996263.\n",
      "2022-11-29 09:21:13,911:(0.03s):geometry:\treduced angle potential = 0.1386446585974545.\n",
      "2022-11-29 09:21:13,936:(0.03s):geometry:\treduced angle potential = 1.406463107003945.\n",
      "2022-11-29 09:21:13,959:(0.02s):geometry:\treduced angle potential = 0.05535592133136959.\n",
      "2022-11-29 09:21:13,982:(0.02s):geometry:\treduced angle potential = 1.1181430510065242.\n",
      "2022-11-29 09:21:14,007:(0.02s):geometry:\treduced angle potential = 0.19310528381898276.\n",
      "2022-11-29 09:21:14,030:(0.02s):geometry:\treduced angle potential = 0.33821375727201575.\n",
      "2022-11-29 09:21:14,054:(0.02s):geometry:\treduced angle potential = 0.14069425851305087.\n"
     ]
    },
    {
     "name": "stdout",
     "output_type": "stream",
     "text": [
      "conducting subsequent work with the following platform: CPU\n",
      "conducting subsequent work with the following platform: CPU\n"
     ]
    },
    {
     "name": "stderr",
     "output_type": "stream",
     "text": [
      "2022-11-29 09:21:14,079:(0.03s):geometry:\treduced angle potential = 0.008298441175535413.\n",
      "2022-11-29 09:21:14,106:(0.03s):geometry:\tbeginning construction of no_nonbonded final system...\n",
      "2022-11-29 09:21:14,107:(0.00s):geometry:\tinitial no-nonbonded final system forces ['HarmonicBondForce', 'HarmonicAngleForce', 'PeriodicTorsionForce', 'NonbondedForce']\n",
      "2022-11-29 09:21:14,109:(0.00s):geometry:\tfinal no-nonbonded final system forces dict_keys(['HarmonicBondForce', 'HarmonicAngleForce', 'PeriodicTorsionForce', 'NonbondedForce'])\n",
      "2022-11-29 09:21:14,110:(0.00s):geometry:\tthere are 27 bond forces in the no-nonbonded final system\n",
      "2022-11-29 09:21:14,110:(0.00s):geometry:\tthere are 65 angle forces in the no-nonbonded final system\n",
      "2022-11-29 09:21:14,110:(0.00s):geometry:\tthere are 153 torsion forces in the no-nonbonded final system\n",
      "2022-11-29 09:21:14,110:(0.00s):geometry:forward final system defined with 0 neglected angles.\n",
      "2022-11-29 09:21:14,127:(0.02s):geometry:total reduced potential before atom placement: 252.54928979195319\n",
      "2022-11-29 09:21:14,139:(0.01s):geometry:total reduced energy added from growth system: 381.8543838516602\n",
      "2022-11-29 09:21:14,140:(0.00s):geometry:final reduced energy 1294.1584538828552\n",
      "2022-11-29 09:21:14,140:(0.00s):geometry:sum of energies: 634.4036736436134\n",
      "2022-11-29 09:21:14,140:(0.00s):geometry:magnitude of difference in the energies: 659.7547802392417\n",
      "2022-11-29 09:21:14,140:(0.00s):geometry:Final logp_proposal: 75.7176824221568\n",
      "2022-11-29 09:21:14,141:(0.00s):geometry:logp_reverse: performing reverse proposal\n",
      "2022-11-29 09:21:14,142:(0.00s):geometry:logp_reverse: unique new atoms detected; proceeding to _logp_propose...\n",
      "2022-11-29 09:21:14,142:(0.00s):geometry:Conducting forward proposal...\n",
      "2022-11-29 09:21:14,142:(0.00s):geometry:Computing proposal order with NetworkX...\n",
      "2022-11-29 09:21:14,144:(0.00s):geometry:number of atoms to be placed: 4\n",
      "2022-11-29 09:21:14,144:(0.00s):geometry:Atom index proposal order is [19, 30, 31, 21]\n",
      "2022-11-29 09:21:14,144:(0.00s):geometry:omitted_bonds: []\n",
      "2022-11-29 09:21:14,144:(0.00s):geometry:direction of proposal is reverse; creating atoms_with_positions from old system/topology\n",
      "2022-11-29 09:21:14,148:(0.00s):geometry:creating growth system...\n",
      "2022-11-29 09:21:14,151:(0.00s):geometry:\tcreating bond force...\n",
      "2022-11-29 09:21:14,152:(0.00s):geometry:\tthere are 22 bonds in reference force.\n",
      "2022-11-29 09:21:14,153:(0.00s):geometry:\tcreating angle force...\n",
      "2022-11-29 09:21:14,153:(0.00s):geometry:\tthere are 52 angles in reference force.\n",
      "2022-11-29 09:21:14,154:(0.00s):geometry:\tcreating torsion force...\n",
      "2022-11-29 09:21:14,154:(0.00s):geometry:\tcreating extra torsions force...\n",
      "2022-11-29 09:21:14,154:(0.00s):geometry:\tthere are 123 torsions in reference force.\n",
      "2022-11-29 09:21:14,155:(0.00s):geometry:\tcreating nonbonded force...\n",
      "2022-11-29 09:21:14,156:(0.00s):geometry:\t\tgrabbing reference nonbonded method, cutoff, switching function, switching distance...\n",
      "2022-11-29 09:21:14,156:(0.00s):geometry:\t\tcreating nonbonded exception force (i.e. custom bond for 1,4s)...\n",
      "2022-11-29 09:21:14,156:(0.00s):geometry:\t\tlooping through exceptions calculating growth indices, and adding appropriate interactions to custom bond force.\n",
      "2022-11-29 09:21:14,156:(0.00s):geometry:\t\tthere are 149 in the reference Nonbonded force\n",
      "2022-11-29 09:21:14,160:(0.00s):geometry:Neglected angle terms : []\n",
      "2022-11-29 09:21:14,160:(0.00s):geometry:omitted_growth_terms: {'bonds': [], 'angles': [], 'torsions': [], '1,4s': []}\n",
      "2022-11-29 09:21:14,160:(0.00s):geometry:extra torsions: {0: (16, 17, 19, 21, [1, Quantity(value=-2.8442241257136933, unit=radian), Quantity(value=1200.0, unit=kilocalorie/mole), 4]), 1: (16, 17, 19, 30, [1, Quantity(value=1.2978973198890162, unit=radian), Quantity(value=1200.0, unit=kilocalorie/mole), 2]), 2: (16, 17, 19, 31, [1, Quantity(value=-0.7034341269632272, unit=radian), Quantity(value=1200.0, unit=kilocalorie/mole), 3]), 3: (18, 17, 19, 21, [1, Quantity(value=0.31353829514069576, unit=radian), Quantity(value=1200.0, unit=kilocalorie/mole), 4]), 4: (18, 17, 19, 30, [1, Quantity(value=-1.8275255664361802, unit=radian), Quantity(value=1200.0, unit=kilocalorie/mole), 2]), 5: (18, 17, 19, 31, [1, Quantity(value=2.4543282938911624, unit=radian), Quantity(value=1200.0, unit=kilocalorie/mole), 3])}\n",
      "2022-11-29 09:21:14,161:(0.00s):geometry:neglected angle terms include []\n",
      "2022-11-29 09:21:14,161:(0.00s):geometry:log probability choice of torsions and atom order: -4.564348191467836\n",
      "2022-11-29 09:21:14,161:(0.00s):geometry:creating platform, integrators, and contexts; setting growth parameter\n",
      "2022-11-29 09:21:14,166:(0.00s):geometry:setting atoms_with_positions context old positions\n",
      "2022-11-29 09:21:14,170:(0.00s):geometry:There are 4 new atoms\n",
      "2022-11-29 09:21:14,172:(0.00s):geometry:\treduced angle potential = 10.377643807886455.\n",
      "2022-11-29 09:21:14,194:(0.02s):geometry:\treduced angle potential = 0.07596352063235631.\n",
      "2022-11-29 09:21:14,214:(0.02s):geometry:\treduced angle potential = 0.07542386282822235.\n",
      "2022-11-29 09:21:14,237:(0.02s):geometry:\treduced angle potential = 0.9937085096420707.\n",
      "2022-11-29 09:21:14,258:(0.02s):geometry:\tbeginning construction of no_nonbonded final system...\n",
      "2022-11-29 09:21:14,259:(0.00s):geometry:\tinitial no-nonbonded final system forces ['HarmonicBondForce', 'HarmonicAngleForce', 'PeriodicTorsionForce', 'NonbondedForce']\n",
      "2022-11-29 09:21:14,261:(0.00s):geometry:\tfinal no-nonbonded final system forces dict_keys(['HarmonicBondForce', 'HarmonicAngleForce', 'PeriodicTorsionForce', 'NonbondedForce'])\n",
      "2022-11-29 09:21:14,261:(0.00s):geometry:\tthere are 22 bond forces in the no-nonbonded final system\n",
      "2022-11-29 09:21:14,262:(0.00s):geometry:\tthere are 52 angle forces in the no-nonbonded final system\n",
      "2022-11-29 09:21:14,262:(0.00s):geometry:\tthere are 123 torsion forces in the no-nonbonded final system\n",
      "2022-11-29 09:21:14,262:(0.00s):geometry:reverse final system defined with 0 neglected angles.\n",
      "2022-11-29 09:21:14,272:(0.01s):geometry:total reduced potential before atom placement: 252.54928979195324\n",
      "2022-11-29 09:21:14,281:(0.01s):geometry:total reduced energy added from growth system: -39.51302756622524\n",
      "2022-11-29 09:21:14,282:(0.00s):geometry:final reduced energy 213.03626237564416\n",
      "2022-11-29 09:21:14,282:(0.00s):geometry:sum of energies: 213.036262225728\n",
      "2022-11-29 09:21:14,282:(0.00s):geometry:magnitude of difference in the energies: 1.4991615415738124e-07\n",
      "2022-11-29 09:21:14,283:(0.00s):geometry:Final logp_proposal: 23.922417421775876\n",
      "2022-11-29 09:21:14,287:(0.00s):relative:*** Generating vanilla HybridTopologyFactory ***\n",
      "2022-11-29 09:21:14,287:(0.00s):relative:Beginning nonbonded method, total particle, barostat, and exceptions retrieval...\n",
      "2022-11-29 09:21:14,291:(0.00s):relative:Old system forces: dict_keys(['HarmonicBondForce', 'HarmonicAngleForce', 'PeriodicTorsionForce', 'NonbondedForce'])\n",
      "2022-11-29 09:21:14,291:(0.00s):relative:New system forces: dict_keys(['HarmonicBondForce', 'HarmonicAngleForce', 'PeriodicTorsionForce', 'NonbondedForce'])\n",
      "2022-11-29 09:21:14,291:(0.00s):relative:No unknown forces.\n",
      "2022-11-29 09:21:14,291:(0.00s):relative:Nonbonded method to be used (i.e. from old system): 0\n",
      "2022-11-29 09:21:14,291:(0.00s):relative:Adding and mapping old atoms to hybrid system...\n",
      "2022-11-29 09:21:14,292:(0.00s):relative:Adding and mapping new atoms to hybrid system...\n",
      "2022-11-29 09:21:14,292:(0.00s):relative:No MonteCarloBarostat added.\n",
      "2022-11-29 09:21:14,292:(0.00s):relative:getDefaultPeriodicBoxVectors added to hybrid: [Quantity(value=Vec3(x=2.0, y=0.0, z=0.0), unit=nanometer), Quantity(value=Vec3(x=0.0, y=2.0, z=0.0), unit=nanometer), Quantity(value=Vec3(x=0.0, y=0.0, z=2.0), unit=nanometer)]\n",
      "2022-11-29 09:21:14,292:(0.00s):relative:Determined atom classes.\n",
      "2022-11-29 09:21:14,293:(0.00s):relative:Generating old system exceptions dict...\n",
      "2022-11-29 09:21:14,293:(0.00s):relative:Generating new system exceptions dict...\n",
      "2022-11-29 09:21:14,294:(0.00s):relative:Handling constraints...\n",
      "2022-11-29 09:21:14,294:(0.00s):relative:Handling virtual sites...\n",
      "2022-11-29 09:21:14,294:(0.00s):relative:\t_handle_virtual_sites: numVirtualSites: 0\n",
      "2022-11-29 09:21:14,294:(0.00s):relative:Adding bond force terms...\n"
     ]
    },
    {
     "name": "stderr",
     "output_type": "stream",
     "text": [
      "2022-11-29 09:21:14,295:(0.00s):relative:Adding angle force terms...\n",
      "2022-11-29 09:21:14,295:(0.00s):relative:Adding torsion force terms...\n",
      "2022-11-29 09:21:14,295:(0.00s):relative:Adding nonbonded force terms...\n",
      "2022-11-29 09:21:14,295:(0.00s):relative:\t_add_nonbonded_force_terms: <openmm.openmm.NonbondedForce; proxy of <Swig Object of type 'OpenMM::NonbondedForce *' at 0x7f7accffd7a0> > added to hybrid system\n",
      "2022-11-29 09:21:14,295:(0.00s):relative:\t_add_nonbonded_force_terms: nonbonded_method is NoCutoff\n",
      "2022-11-29 09:21:14,296:(0.00s):relative:\t_add_nonbonded_force_terms: 0 added to standard nonbonded force\n",
      "2022-11-29 09:21:14,304:(0.01s):relative:\t_add_nonbonded_force_terms: 0 added to sterics_custom_nonbonded force\n",
      "2022-11-29 09:21:14,305:(0.00s):relative:\t_add_nonbonded_force_terms: <openmm.openmm.CustomNonbondedForce; proxy of <Swig Object of type 'OpenMM::CustomNonbondedForce *' at 0x7f7accffd9b0> > added to hybrid system\n",
      "2022-11-29 09:21:14,305:(0.00s):relative:Handling harmonic bonds...\n",
      "2022-11-29 09:21:14,305:(0.00s):relative:\thandle_harmonic_bonds: looping through old_system to add relevant terms...\n",
      "2022-11-29 09:21:14,308:(0.00s):relative:\thandle_harmonic_bonds: looping through new_system to add relevant terms...\n",
      "2022-11-29 09:21:14,308:(0.00s):relative:Handling harmonic angles...\n",
      "2022-11-29 09:21:14,308:(0.00s):relative:\thandle_harmonic_angles: looping through old_system to add relevant terms...\n",
      "2022-11-29 09:21:14,313:(0.00s):relative:\thandle_harmonic_angles: looping through new_system to add relevant terms...\n",
      "2022-11-29 09:21:14,314:(0.00s):relative:Handling torsion forces...\n",
      "2022-11-29 09:21:14,314:(0.00s):relative:\thandle_periodic_torsion_forces: looping through old_system to add relevant terms...\n",
      "2022-11-29 09:21:14,315:(0.00s):relative:\thandle_periodic_torsion_forces: looping through new_system to add relevant terms...\n",
      "2022-11-29 09:21:14,318:(0.00s):relative:Handling nonbonded forces...\n",
      "2022-11-29 09:21:14,319:(0.00s):relative:\thandle_nonbonded: looping through all particles in hybrid...\n",
      "2022-11-29 09:21:14,321:(0.00s):relative:\thandle_nonbonded: Handling Interaction Groups...\n",
      "2022-11-29 09:21:14,321:(0.00s):relative:\thandle_nonbonded: Handling Hybrid Exceptions...\n",
      "2022-11-29 09:21:14,322:(0.00s):relative:\thandle_nonbonded: Handling Original Exceptions...\n"
     ]
    },
    {
     "name": "stdout",
     "output_type": "stream",
     "text": [
      "conducting subsequent work with the following platform: CPU\n",
      "conducting subsequent work with the following platform: CPU\n",
      "conducting subsequent work with the following platform: CPU\n",
      "conducting subsequent work with the following platform: CPU\n",
      "conducting subsequent work with the following platform: CPU\n",
      "added energy components: {'CustomBondForce': 163.62693393096956, 'CustomAngleForce': 191.09414510658723, 'CustomTorsionForce': 21.89977880333886}\n",
      "conducting subsequent work with the following platform: CPU\n",
      "conducting subsequent work with the following platform: CPU\n",
      "conducting subsequent work with the following platform: CPU\n",
      "conducting subsequent work with the following platform: CPU\n",
      "conducting subsequent work with the following platform: CPU\n",
      "conducting subsequent work with the following platform: CPU\n",
      "conducting subsequent work with the following platform: CPU\n",
      "added energy components: {'CustomBondForce': -58.13460765349573, 'CustomAngleForce': 17.486668370697988, 'CustomTorsionForce': 1.052985996735075}\n"
     ]
    },
    {
     "name": "stderr",
     "output_type": "stream",
     "text": [
      "2022-11-29 09:21:14,363:(0.04s):relative:Handling unique_new/old interaction exceptions...\n",
      "2022-11-29 09:21:14,363:(0.00s):relative:There are old or new system exceptions...proceeding.\n",
      "2022-11-29 09:21:14,365:(0.00s):relative:Imposing virtual bonds to ensure system is imaged together.\n",
      "2022-11-29 09:21:14,380:(0.02s):relative:\t\t_impose_virtual_bonds: No restraint added because one set is empty (core_atoms=[0, 1, 2, 3, 4, 5, 6, 7, 8, 9, 10, 11, 12, 13, 14, 15, 16, 17, 18, 20], protein_atoms=[])\n"
     ]
    }
   ],
   "source": [
    "simulation = SimulationUnit(state_a=system_a, state_b=system_b, mapping=mapping, settings=non_eq_settings)\n",
    "result = simulation.execute(shared='/tmp/', **simulation.inputs)\n"
   ]
  },
  {
   "cell_type": "code",
   "execution_count": 7,
   "id": "e124d42c",
   "metadata": {},
   "outputs": [
    {
     "data": {
      "text/plain": [
       "True"
      ]
     },
     "execution_count": 7,
     "metadata": {},
     "output_type": "execute_result"
    }
   ],
   "source": [
    "result.ok()"
   ]
  },
  {
   "cell_type": "code",
   "execution_count": 8,
   "id": "3b8a335f",
   "metadata": {},
   "outputs": [
    {
     "ename": "AttributeError",
     "evalue": "'ProtocolUnitResult' object has no attribute 'traceback'",
     "output_type": "error",
     "traceback": [
      "\u001b[0;31m---------------------------------------------------------------------------\u001b[0m",
      "\u001b[0;31mAttributeError\u001b[0m                            Traceback (most recent call last)",
      "Cell \u001b[0;32mIn [8], line 1\u001b[0m\n\u001b[0;32m----> 1\u001b[0m \u001b[38;5;28mprint\u001b[39m(\u001b[43mresult\u001b[49m\u001b[38;5;241;43m.\u001b[39;49m\u001b[43mtraceback\u001b[49m)\n",
      "\u001b[0;31mAttributeError\u001b[0m: 'ProtocolUnitResult' object has no attribute 'traceback'"
     ]
    }
   ],
   "source": [
    "print(result.traceback)"
   ]
  },
  {
   "cell_type": "code",
   "execution_count": 9,
   "id": "0a05ac88",
   "metadata": {},
   "outputs": [],
   "source": [
    "# GatherUnit -- Results\n",
    "neq_results = ResultUnit(phase=\"vacuum\")\n",
    "# result = neq_results.execute(shared='/tmp/', **neq_results.inputs)\n",
    "result = neq_results.execute(shared='/tmp/', **neq_results.inputs)"
   ]
  },
  {
   "cell_type": "code",
   "execution_count": 10,
   "id": "887c4a29",
   "metadata": {},
   "outputs": [
    {
     "data": {
      "text/plain": [
       "{}"
      ]
     },
     "execution_count": 10,
     "metadata": {},
     "output_type": "execute_result"
    }
   ],
   "source": [
    "result.outputs"
   ]
  },
  {
   "cell_type": "code",
   "execution_count": 6,
   "id": "a8f3d380",
   "metadata": {},
   "outputs": [
    {
     "name": "stderr",
     "output_type": "stream",
     "text": [
      "2022-11-29 18:53:09,932:(0.00s):utils.openeye:molecule ejm_31                      does not have unique atom names. Generating now...\n",
      "2022-11-29 18:53:09,933:(0.00s):utils.openeye:molecule jmc_30                      does not have unique atom names. Generating now...\n",
      "2022-11-29 18:53:09,933:(0.00s):relative_setup:\t\t\t_hmass: 3 Da.\n",
      "\n",
      "2022-11-29 18:53:09,934:(0.00s):relative_setup:No receptor specified. Assuming non-complex phase.\n",
      "2022-11-29 18:53:09,935:(0.00s):relative_setup:\tsetting both molecule oemol titles to 'MOL'.\n",
      "2022-11-29 18:53:09,936:(0.00s):relative_setup:Created mdtraj topologies for both ligands.\n",
      "2022-11-29 18:53:09,937:(0.00s):relative_setup:Setting non bonded method to PME\n",
      "2022-11-29 18:53:09,937:(0.00s):relative_setup:set MonteCarloBarostat because pressure was specified as 1.0 atm atmospheres\n",
      "2022-11-29 18:53:09,945:(0.01s):relative_setup:PME tolerance: 0.00025\n"
     ]
    },
    {
     "name": "stdout",
     "output_type": "stream",
     "text": [
      "Receptor not found in chemical system. Assuming non-complex phase for system.\n",
      "Receptor not found in chemical system. Assuming non-complex phase for system.\n"
     ]
    },
    {
     "name": "stderr",
     "output_type": "stream",
     "text": [
      "2022-11-29 18:53:10,313:(0.37s):relative_setup:successfully created SystemGenerator to create ligand systems\n",
      "2022-11-29 18:53:10,313:(0.00s):relative_setup:executing SmallMoleculeSetProposalEngine...\n",
      "2022-11-29 18:53:10,314:(0.00s):relative_setup:instantiating FFAllAngleGeometryEngine...\n",
      "2022-11-29 18:53:10,314:(0.00s):relative_setup:Detected solvent...\n",
      "2022-11-29 18:53:10,315:(0.00s):relative_setup:assgning noCutoff to nonbonded_method\n",
      "2022-11-29 18:53:10,315:(0.00s):relative_setup:Removing barostat for vacuum phase\n",
      "2022-11-29 18:53:10,315:(0.00s):relative_setup:Setting nonbondedMethod to NoCutoff for vacuum phase\n",
      "2022-11-29 18:53:10,316:(0.00s):relative_setup:calling SystemGenerator to create ligand systems.\n",
      "2022-11-29 18:53:10,316:(0.00s):relative_setup:No complex or solvent leg, so performing topology proposal for vacuum leg\n",
      "2022-11-29 18:53:10,316:(0.00s):relative_setup:\tSkipping solvation of vacuum perturbation\n",
      "2022-11-29 18:53:10,317:(0.00s):relative_setup:\tparameterizing...\n",
      "2022-11-29 18:53:10,318:(0.00s):openmmforcefields.generators.template_generators:Requested to generate parameters for residue <Residue 0 (MOL) of chain 0>\n",
      "2022-11-29 18:53:10,322:(0.00s):openmmforcefields.generators.template_generators:Generating a residue template for [H]c1c(c(c(c(c1[H])Cl)C(=O)N([H])c2c(c(nc(c2[H])N([H])C(=O)C([H])([H])[H])[H])[H])Cl)[H] using openff-2.0.0\n",
      "Warning: Cannot perform Hydrogen sampling with GPU-Omega: GPU-Omega disabled.\n",
      "2022-11-29 18:53:13,468:(3.15s):relative_setup:\tSystem parameterized\n",
      "2022-11-29 18:53:13,468:(0.00s):relative_setup:Both trajectory_directory and trajectory_prefix need to be provided to save .pdb\n",
      "2022-11-29 18:53:13,469:(0.00s):proposal_generator:creating current receptor topology by removing small molecule from current topology...\n",
      "2022-11-29 18:53:13,469:(0.00s):proposal_generator:small molecule start index: 0\n",
      "2022-11-29 18:53:13,469:(0.00s):proposal_generator:small molecule has 32 atoms.\n",
      "2022-11-29 18:53:13,469:(0.00s):proposal_generator:old alchemical atom indices: range(0, 32)\n",
      "2022-11-29 18:53:13,469:(0.00s):proposal_generator:proposed mol detected with smiles [H]c1c(c(c(c(c1[H])Cl)C(=O)N([H])c2c(c(nc(c2[H])N([H])C(=O)C3(C(C3([H])C#N)([H])[H])[H])[H])[H])Cl)[H] and logp_proposal of 0.0\n",
      "2022-11-29 18:53:13,470:(0.00s):proposal_generator:conducting proposal from [H]c1c(c(c(c(c1[H])Cl)C(=O)N([H])c2c(c(nc(c2[H])N([H])C(=O)C([H])([H])[H])[H])[H])Cl)[H] to [H]c1c(c(c(c(c1[H])Cl)C(=O)N([H])c2c(c(nc(c2[H])N([H])C(=O)C3(C(C3([H])C#N)([H])[H])[H])[H])[H])Cl)[H]...\n",
      "2022-11-29 18:53:13,470:(0.00s):proposal_generator:building new topology with proposed molecule and current receptor topology...\n",
      "2022-11-29 18:53:13,470:(0.00s):proposal_generator:\tsetting proposed oemol title to MOL\n",
      "2022-11-29 18:53:13,470:(0.00s):proposal_generator:\tcreating mol topology from oemol...\n",
      "2022-11-29 18:53:13,471:(0.00s):proposal_generator:\tappending current receptor topology to new mol topology...\n",
      "2022-11-29 18:53:13,472:(0.00s):proposal_generator:new molecule has a start index of 0 and 37 atoms.\n",
      "2022-11-29 18:53:13,473:(0.00s):proposal_generator:proceeding to build the new system from the new topology...\n",
      "2022-11-29 18:53:13,474:(0.00s):openmmforcefields.generators.template_generators:Requested to generate parameters for residue <Residue 0 (MOL) of chain 1>\n",
      "2022-11-29 18:53:13,477:(0.00s):openmmforcefields.generators.template_generators:Generating a residue template for [H]c1c(c(c(c(c1[H])Cl)C(=O)N([H])c2c(c(nc(c2[H])N([H])C(=O)[C@@]3([C@](C3([H])[H])([H])C#N)[H])[H])[H])Cl)[H] using openff-2.0.0\n",
      "2022-11-29 18:53:26,903:(13.43s):proposal_generator:determining atom map between old and new molecules...\n",
      "2022-11-29 18:53:26,904:(0.00s):proposal_generator:atom map is pre-determined as {0: 0, 1: 1, 2: 2, 3: 3, 4: 4, 5: 5, 6: 6, 7: 7, 8: 8, 9: 9, 10: 10, 11: 11, 12: 12, 13: 13, 14: 14, 15: 15, 16: 16, 17: 17, 18: 18, 23: 20, 26: 22, 27: 23, 28: 24, 29: 25, 30: 26, 31: 27, 32: 28, 33: 29}\n",
      "2022-11-29 18:53:26,905:(0.00s):proposal_generator:Proposed transformation would delete 4 atoms and create 9 atoms.\n",
      "2022-11-29 18:53:26,905:(0.00s):relative_setup:conducting geometry proposal...\n",
      "2022-11-29 18:53:26,906:(0.00s):geometry:propose: performing forward proposal\n",
      "2022-11-29 18:53:26,908:(0.00s):geometry:propose: unique new atoms detected; proceeding to _logp_propose...\n",
      "2022-11-29 18:53:26,908:(0.00s):geometry:Conducting forward proposal...\n",
      "2022-11-29 18:53:26,909:(0.00s):geometry:Computing proposal order with NetworkX...\n",
      "2022-11-29 18:53:26,914:(0.01s):geometry:number of atoms to be placed: 9\n",
      "2022-11-29 18:53:26,915:(0.00s):geometry:Atom index proposal order is [19, 20, 21, 22, 36, 34, 35, 24, 25]\n",
      "2022-11-29 18:53:26,916:(0.00s):geometry:omitted_bonds: [(20, 21)]\n",
      "2022-11-29 18:53:26,916:(0.00s):geometry:direction of proposal is forward; creating atoms_with_positions and new positions from old system/topology...\n",
      "2022-11-29 18:53:26,926:(0.01s):geometry:creating growth system...\n",
      "2022-11-29 18:53:26,931:(0.00s):geometry:\tcreating bond force...\n",
      "2022-11-29 18:53:26,932:(0.00s):geometry:\tthere are 27 bonds in reference force.\n",
      "2022-11-29 18:53:26,933:(0.00s):geometry:\tcreating angle force...\n",
      "2022-11-29 18:53:26,933:(0.00s):geometry:\tthere are 65 angles in reference force.\n",
      "2022-11-29 18:53:26,936:(0.00s):geometry:\tcreating torsion force...\n",
      "2022-11-29 18:53:26,936:(0.00s):geometry:\tcreating extra torsions force...\n",
      "2022-11-29 18:53:26,937:(0.00s):geometry:\tthere are 159 torsions in reference force.\n",
      "2022-11-29 18:53:26,940:(0.00s):geometry:\tcreating nonbonded force...\n",
      "2022-11-29 18:53:26,940:(0.00s):geometry:\t\tgrabbing reference nonbonded method, cutoff, switching function, switching distance...\n",
      "2022-11-29 18:53:26,941:(0.00s):geometry:\t\tcreating nonbonded exception force (i.e. custom bond for 1,4s)...\n",
      "2022-11-29 18:53:26,941:(0.00s):geometry:\t\tlooping through exceptions calculating growth indices, and adding appropriate interactions to custom bond force.\n",
      "2022-11-29 18:53:26,942:(0.00s):geometry:\t\tthere are 180 in the reference Nonbonded force\n",
      "2022-11-29 18:53:26,954:(0.01s):geometry:Neglected angle terms : []\n",
      "2022-11-29 18:53:26,955:(0.00s):geometry:omitted_growth_terms: {'bonds': [(20, 21)], 'angles': [(19, 20, 21), (19, 21, 20), (20, 21, 22), (20, 21, 25), (21, 20, 34), (21, 20, 35)], 'torsions': [(17, 19, 20, 21), (17, 19, 20, 21), (17, 19, 21, 20), (17, 19, 21, 20), (19, 20, 21, 22), (19, 20, 21, 22), (19, 20, 21, 25), (19, 20, 21, 25), (19, 21, 20, 34), (19, 21, 20, 34), (19, 21, 20, 35), (19, 21, 20, 35), (20, 21, 19, 24), (20, 21, 19, 24), (21, 20, 19, 24), (21, 20, 19, 24), (22, 21, 20, 34), (22, 21, 20, 35), (25, 21, 20, 34), (25, 21, 20, 35)], '1,4s': [(22, 34), (25, 34), (22, 35), (25, 35)]}\n",
      "2022-11-29 18:53:26,956:(0.00s):geometry:extra torsions: {0: (17, 19, 20, 34, [1, Quantity(value=0.8442458753166542, unit=radian), Quantity(value=1200.0, unit=kilocalorie/mole), 6]), 1: (17, 19, 20, 35, [1, Quantity(value=2.938898889753452, unit=radian), Quantity(value=1200.0, unit=kilocalorie/mole), 7]), 2: (21, 19, 20, 34, [1, Quantity(value=-1.0472746123269623, unit=radian), Quantity(value=1200.0, unit=kilocalorie/mole), 6]), 3: (21, 19, 20, 35, [1, Quantity(value=1.0473784021098353, unit=radian), Quantity(value=1200.0, unit=kilocalorie/mole), 7]), 4: (24, 19, 20, 34, [1, Quantity(value=-2.92725438485372, unit=radian), Quantity(value=1200.0, unit=kilocalorie/mole), 8]), 5: (24, 19, 20, 35, [1, Quantity(value=-0.8326013704169224, unit=radian), Quantity(value=1200.0, unit=kilocalorie/mole), 8]), 6: (17, 19, 21, 22, [1, Quantity(value=3.119025474553272, unit=radian), Quantity(value=1200.0, unit=kilocalorie/mole), 4]), 7: (17, 19, 21, 25, [1, Quantity(value=-0.6296141988199375, unit=radian), Quantity(value=1200.0, unit=kilocalorie/mole), 9]), 8: (20, 19, 21, 22, [1, Quantity(value=-1.2576827720042356, unit=radian), Quantity(value=1200.0, unit=kilocalorie/mole), 4]), 9: (20, 19, 21, 25, [1, Quantity(value=1.2768628618021485, unit=radian), Quantity(value=1200.0, unit=kilocalorie/mole), 9]), 10: (24, 19, 21, 22, [1, Quantity(value=0.6081613112894098, unit=radian), Quantity(value=1200.0, unit=kilocalorie/mole), 8]), 11: (24, 19, 21, 25, [1, Quantity(value=-3.1404783620839223, unit=radian), Quantity(value=1200.0, unit=kilocalorie/mole), 9]), 12: (19, 21, 22, 36, [1, Quantity(value=-1.92854371188848, unit=radian), Quantity(value=1200.0, unit=kilocalorie/mole), 5]), 13: (25, 21, 22, 36, [1, Quantity(value=1.8079925957218328, unit=radian), Quantity(value=1200.0, unit=kilocalorie/mole), 9])}\n"
     ]
    },
    {
     "name": "stderr",
     "output_type": "stream",
     "text": [
      "2022-11-29 18:53:26,956:(0.00s):geometry:neglected angle terms include []\n",
      "2022-11-29 18:53:26,957:(0.00s):geometry:log probability choice of torsions and atom order: -11.666847547242485\n",
      "2022-11-29 18:53:26,958:(0.00s):geometry:creating platform, integrators, and contexts; setting growth parameter\n",
      "2022-11-29 18:53:26,967:(0.01s):geometry:setting atoms_with_positions context new positions\n",
      "2022-11-29 18:53:26,976:(0.01s):geometry:There are 9 new atoms\n",
      "2022-11-29 18:53:26,981:(0.01s):geometry:\treduced angle potential = 0.036068134696983535.\n",
      "2022-11-29 18:53:27,031:(0.05s):geometry:\treduced angle potential = 0.0006261299879561936.\n",
      "2022-11-29 18:53:27,066:(0.03s):geometry:\treduced angle potential = 0.24946841997007105.\n",
      "2022-11-29 18:53:27,114:(0.05s):geometry:\treduced angle potential = 0.26055999449016976.\n",
      "2022-11-29 18:53:27,151:(0.04s):geometry:\treduced angle potential = 0.04871812117030455.\n"
     ]
    },
    {
     "name": "stdout",
     "output_type": "stream",
     "text": [
      "conducting subsequent work with the following platform: CPU\n",
      "conducting subsequent work with the following platform: CPU\n"
     ]
    },
    {
     "name": "stderr",
     "output_type": "stream",
     "text": [
      "2022-11-29 18:53:27,191:(0.04s):geometry:\treduced angle potential = 0.12685305493503785.\n",
      "2022-11-29 18:53:27,229:(0.04s):geometry:\treduced angle potential = 0.004120171965160933.\n",
      "2022-11-29 18:53:27,264:(0.03s):geometry:\treduced angle potential = 0.03137987875693876.\n",
      "2022-11-29 18:53:27,305:(0.04s):geometry:\treduced angle potential = 0.002782386941724597.\n",
      "2022-11-29 18:53:27,338:(0.03s):geometry:\tbeginning construction of no_nonbonded final system...\n",
      "2022-11-29 18:53:27,339:(0.00s):geometry:\tinitial no-nonbonded final system forces ['HarmonicBondForce', 'HarmonicAngleForce', 'PeriodicTorsionForce', 'NonbondedForce']\n",
      "2022-11-29 18:53:27,341:(0.00s):geometry:\tfinal no-nonbonded final system forces dict_keys(['HarmonicBondForce', 'HarmonicAngleForce', 'PeriodicTorsionForce', 'NonbondedForce'])\n",
      "2022-11-29 18:53:27,342:(0.00s):geometry:\tthere are 27 bond forces in the no-nonbonded final system\n",
      "2022-11-29 18:53:27,342:(0.00s):geometry:\tthere are 65 angle forces in the no-nonbonded final system\n",
      "2022-11-29 18:53:27,342:(0.00s):geometry:\tthere are 159 torsion forces in the no-nonbonded final system\n",
      "2022-11-29 18:53:27,343:(0.00s):geometry:forward final system defined with 0 neglected angles.\n",
      "2022-11-29 18:53:27,360:(0.02s):geometry:total reduced potential before atom placement: 82.0172074972807\n",
      "2022-11-29 18:53:27,375:(0.01s):geometry:total reduced energy added from growth system: 933.2238324808671\n",
      "2022-11-29 18:53:27,375:(0.00s):geometry:final reduced energy 1388.987289571954\n",
      "2022-11-29 18:53:27,376:(0.00s):geometry:sum of energies: 1015.2410399781478\n",
      "2022-11-29 18:53:27,376:(0.00s):geometry:magnitude of difference in the energies: 373.7462495938063\n",
      "2022-11-29 18:53:27,376:(0.00s):geometry:Final logp_proposal: 74.1680199634928\n",
      "2022-11-29 18:53:27,378:(0.00s):geometry:logp_reverse: performing reverse proposal\n",
      "2022-11-29 18:53:27,378:(0.00s):geometry:logp_reverse: unique new atoms detected; proceeding to _logp_propose...\n",
      "2022-11-29 18:53:27,379:(0.00s):geometry:Conducting forward proposal...\n",
      "2022-11-29 18:53:27,379:(0.00s):geometry:Computing proposal order with NetworkX...\n",
      "2022-11-29 18:53:27,381:(0.00s):geometry:number of atoms to be placed: 4\n",
      "2022-11-29 18:53:27,382:(0.00s):geometry:Atom index proposal order is [19, 30, 21, 31]\n",
      "2022-11-29 18:53:27,382:(0.00s):geometry:omitted_bonds: []\n",
      "2022-11-29 18:53:27,383:(0.00s):geometry:direction of proposal is reverse; creating atoms_with_positions from old system/topology\n",
      "2022-11-29 18:53:27,390:(0.01s):geometry:creating growth system...\n",
      "2022-11-29 18:53:27,392:(0.00s):geometry:\tcreating bond force...\n",
      "2022-11-29 18:53:27,393:(0.00s):geometry:\tthere are 22 bonds in reference force.\n",
      "2022-11-29 18:53:27,393:(0.00s):geometry:\tcreating angle force...\n",
      "2022-11-29 18:53:27,393:(0.00s):geometry:\tthere are 52 angles in reference force.\n",
      "2022-11-29 18:53:27,394:(0.00s):geometry:\tcreating torsion force...\n",
      "2022-11-29 18:53:27,395:(0.00s):geometry:\tcreating extra torsions force...\n",
      "2022-11-29 18:53:27,395:(0.00s):geometry:\tthere are 129 torsions in reference force.\n",
      "2022-11-29 18:53:27,397:(0.00s):geometry:\tcreating nonbonded force...\n",
      "2022-11-29 18:53:27,398:(0.00s):geometry:\t\tgrabbing reference nonbonded method, cutoff, switching function, switching distance...\n",
      "2022-11-29 18:53:27,398:(0.00s):geometry:\t\tcreating nonbonded exception force (i.e. custom bond for 1,4s)...\n",
      "2022-11-29 18:53:27,399:(0.00s):geometry:\t\tlooping through exceptions calculating growth indices, and adding appropriate interactions to custom bond force.\n",
      "2022-11-29 18:53:27,399:(0.00s):geometry:\t\tthere are 149 in the reference Nonbonded force\n",
      "2022-11-29 18:53:27,407:(0.01s):geometry:Neglected angle terms : []\n",
      "2022-11-29 18:53:27,408:(0.00s):geometry:omitted_growth_terms: {'bonds': [], 'angles': [], 'torsions': [], '1,4s': []}\n",
      "2022-11-29 18:53:27,408:(0.00s):geometry:extra torsions: {0: (16, 17, 19, 21, [1, Quantity(value=-2.8442241257136933, unit=radian), Quantity(value=1200.0, unit=kilocalorie/mole), 3]), 1: (16, 17, 19, 30, [1, Quantity(value=1.2978973198890162, unit=radian), Quantity(value=1200.0, unit=kilocalorie/mole), 2]), 2: (16, 17, 19, 31, [1, Quantity(value=-0.7034341269632272, unit=radian), Quantity(value=1200.0, unit=kilocalorie/mole), 4]), 3: (18, 17, 19, 21, [1, Quantity(value=0.31353829514069576, unit=radian), Quantity(value=1200.0, unit=kilocalorie/mole), 3]), 4: (18, 17, 19, 30, [1, Quantity(value=-1.8275255664361802, unit=radian), Quantity(value=1200.0, unit=kilocalorie/mole), 2]), 5: (18, 17, 19, 31, [1, Quantity(value=2.4543282938911624, unit=radian), Quantity(value=1200.0, unit=kilocalorie/mole), 4])}\n",
      "2022-11-29 18:53:27,409:(0.00s):geometry:neglected angle terms include []\n",
      "2022-11-29 18:53:27,409:(0.00s):geometry:log probability choice of torsions and atom order: -4.564348191467836\n",
      "2022-11-29 18:53:27,410:(0.00s):geometry:creating platform, integrators, and contexts; setting growth parameter\n",
      "2022-11-29 18:53:27,415:(0.01s):geometry:setting atoms_with_positions context old positions\n",
      "2022-11-29 18:53:27,421:(0.01s):geometry:There are 4 new atoms\n",
      "2022-11-29 18:53:27,423:(0.00s):geometry:\treduced angle potential = 3.2044562095950306.\n",
      "2022-11-29 18:53:27,463:(0.04s):geometry:\treduced angle potential = 1.4004338888261891.\n",
      "2022-11-29 18:53:27,494:(0.03s):geometry:\treduced angle potential = 0.19872503578581918.\n",
      "2022-11-29 18:53:27,531:(0.04s):geometry:\treduced angle potential = 1.4028088524146178.\n"
     ]
    },
    {
     "name": "stdout",
     "output_type": "stream",
     "text": [
      "conducting subsequent work with the following platform: CPU\n",
      "conducting subsequent work with the following platform: CPU\n",
      "conducting subsequent work with the following platform: CPU\n",
      "conducting subsequent work with the following platform: CPU\n",
      "conducting subsequent work with the following platform: CPU\n",
      "added energy components: {'CustomBondForce': 666.6390637526381, 'CustomAngleForce': 222.4704502956763, 'CustomTorsionForce': 40.704549155886426}\n",
      "conducting subsequent work with the following platform: CPU\n",
      "conducting subsequent work with the following platform: CPU\n"
     ]
    },
    {
     "name": "stderr",
     "output_type": "stream",
     "text": [
      "2022-11-29 18:53:27,563:(0.03s):geometry:\tbeginning construction of no_nonbonded final system...\n",
      "2022-11-29 18:53:27,564:(0.00s):geometry:\tinitial no-nonbonded final system forces ['HarmonicBondForce', 'HarmonicAngleForce', 'PeriodicTorsionForce', 'NonbondedForce']\n",
      "2022-11-29 18:53:27,567:(0.00s):geometry:\tfinal no-nonbonded final system forces dict_keys(['HarmonicBondForce', 'HarmonicAngleForce', 'PeriodicTorsionForce', 'NonbondedForce'])\n",
      "2022-11-29 18:53:27,568:(0.00s):geometry:\tthere are 22 bond forces in the no-nonbonded final system\n",
      "2022-11-29 18:53:27,568:(0.00s):geometry:\tthere are 52 angle forces in the no-nonbonded final system\n",
      "2022-11-29 18:53:27,568:(0.00s):geometry:\tthere are 129 torsion forces in the no-nonbonded final system\n",
      "2022-11-29 18:53:27,568:(0.00s):geometry:reverse final system defined with 0 neglected angles.\n",
      "2022-11-29 18:53:27,578:(0.01s):geometry:total reduced potential before atom placement: 82.01720749728068\n",
      "2022-11-29 18:53:27,594:(0.02s):geometry:total reduced energy added from growth system: -42.56349115716665\n",
      "2022-11-29 18:53:27,595:(0.00s):geometry:final reduced energy 39.45371649003026\n",
      "2022-11-29 18:53:27,596:(0.00s):geometry:sum of energies: 39.45371634011403\n",
      "2022-11-29 18:53:27,597:(0.00s):geometry:magnitude of difference in the energies: 1.4991623231708218e-07\n",
      "2022-11-29 18:53:27,598:(0.00s):geometry:Final logp_proposal: 28.859932999586775\n",
      "2022-11-29 18:53:27,602:(0.00s):relative:*** Generating vanilla HybridTopologyFactory ***\n",
      "2022-11-29 18:53:27,604:(0.00s):relative:Beginning nonbonded method, total particle, barostat, and exceptions retrieval...\n",
      "2022-11-29 18:53:27,609:(0.01s):relative:Old system forces: dict_keys(['HarmonicBondForce', 'HarmonicAngleForce', 'PeriodicTorsionForce', 'NonbondedForce'])\n",
      "2022-11-29 18:53:27,610:(0.00s):relative:New system forces: dict_keys(['HarmonicBondForce', 'HarmonicAngleForce', 'PeriodicTorsionForce', 'NonbondedForce'])\n",
      "2022-11-29 18:53:27,610:(0.00s):relative:No unknown forces.\n",
      "2022-11-29 18:53:27,610:(0.00s):relative:Nonbonded method to be used (i.e. from old system): 0\n",
      "2022-11-29 18:53:27,611:(0.00s):relative:Adding and mapping old atoms to hybrid system...\n",
      "2022-11-29 18:53:27,612:(0.00s):relative:Adding and mapping new atoms to hybrid system...\n",
      "2022-11-29 18:53:27,612:(0.00s):relative:No MonteCarloBarostat added.\n",
      "2022-11-29 18:53:27,613:(0.00s):relative:getDefaultPeriodicBoxVectors added to hybrid: [Quantity(value=Vec3(x=2.0, y=0.0, z=0.0), unit=nanometer), Quantity(value=Vec3(x=0.0, y=2.0, z=0.0), unit=nanometer), Quantity(value=Vec3(x=0.0, y=0.0, z=2.0), unit=nanometer)]\n",
      "2022-11-29 18:53:27,613:(0.00s):relative:Determined atom classes.\n",
      "2022-11-29 18:53:27,613:(0.00s):relative:Generating old system exceptions dict...\n",
      "2022-11-29 18:53:27,614:(0.00s):relative:Generating new system exceptions dict...\n",
      "2022-11-29 18:53:27,615:(0.00s):relative:Handling constraints...\n",
      "2022-11-29 18:53:27,616:(0.00s):relative:Handling virtual sites...\n",
      "2022-11-29 18:53:27,616:(0.00s):relative:\t_handle_virtual_sites: numVirtualSites: 0\n",
      "2022-11-29 18:53:27,617:(0.00s):relative:Adding bond force terms...\n",
      "2022-11-29 18:53:27,617:(0.00s):relative:Adding angle force terms...\n",
      "2022-11-29 18:53:27,617:(0.00s):relative:Adding torsion force terms...\n",
      "2022-11-29 18:53:27,618:(0.00s):relative:Adding nonbonded force terms...\n",
      "2022-11-29 18:53:27,618:(0.00s):relative:\t_add_nonbonded_force_terms: <openmm.openmm.NonbondedForce; proxy of <Swig Object of type 'OpenMM::NonbondedForce *' at 0x7f91839086c0> > added to hybrid system\n",
      "2022-11-29 18:53:27,619:(0.00s):relative:\t_add_nonbonded_force_terms: nonbonded_method is NoCutoff\n",
      "2022-11-29 18:53:27,619:(0.00s):relative:\t_add_nonbonded_force_terms: 0 added to standard nonbonded force\n",
      "2022-11-29 18:53:27,621:(0.00s):relative:\t_add_nonbonded_force_terms: 0 added to sterics_custom_nonbonded force\n",
      "2022-11-29 18:53:27,622:(0.00s):relative:\t_add_nonbonded_force_terms: <openmm.openmm.CustomNonbondedForce; proxy of <Swig Object of type 'OpenMM::CustomNonbondedForce *' at 0x7f91838c1ce0> > added to hybrid system\n",
      "2022-11-29 18:53:27,623:(0.00s):relative:Handling harmonic bonds...\n",
      "2022-11-29 18:53:27,624:(0.00s):relative:\thandle_harmonic_bonds: looping through old_system to add relevant terms...\n",
      "2022-11-29 18:53:27,628:(0.00s):relative:\thandle_harmonic_bonds: looping through new_system to add relevant terms...\n",
      "2022-11-29 18:53:27,629:(0.00s):relative:Handling harmonic angles...\n",
      "2022-11-29 18:53:27,629:(0.00s):relative:\thandle_harmonic_angles: looping through old_system to add relevant terms...\n",
      "2022-11-29 18:53:27,638:(0.01s):relative:\thandle_harmonic_angles: looping through new_system to add relevant terms...\n",
      "2022-11-29 18:53:27,640:(0.00s):relative:Handling torsion forces...\n",
      "2022-11-29 18:53:27,640:(0.00s):relative:\thandle_periodic_torsion_forces: looping through old_system to add relevant terms...\n",
      "2022-11-29 18:53:27,641:(0.00s):relative:\thandle_periodic_torsion_forces: looping through new_system to add relevant terms...\n",
      "2022-11-29 18:53:27,646:(0.00s):relative:Handling nonbonded forces...\n",
      "2022-11-29 18:53:27,646:(0.00s):relative:\thandle_nonbonded: looping through all particles in hybrid...\n",
      "2022-11-29 18:53:27,650:(0.00s):relative:\thandle_nonbonded: Handling Interaction Groups...\n",
      "2022-11-29 18:53:27,651:(0.00s):relative:\thandle_nonbonded: Handling Hybrid Exceptions...\n",
      "2022-11-29 18:53:27,652:(0.00s):relative:\thandle_nonbonded: Handling Original Exceptions...\n",
      "2022-11-29 18:53:27,718:(0.07s):relative:Handling unique_new/old interaction exceptions...\n",
      "2022-11-29 18:53:27,719:(0.00s):relative:There are old or new system exceptions...proceeding.\n",
      "2022-11-29 18:53:27,721:(0.00s):relative:Imposing virtual bonds to ensure system is imaged together.\n",
      "2022-11-29 18:53:27,738:(0.02s):relative:\t\t_impose_virtual_bonds: No restraint added because one set is empty (core_atoms=[0, 1, 2, 3, 4, 5, 6, 7, 8, 9, 10, 11, 12, 13, 14, 15, 16, 17, 18, 20], protein_atoms=[])\n"
     ]
    },
    {
     "name": "stdout",
     "output_type": "stream",
     "text": [
      "conducting subsequent work with the following platform: CPU\n",
      "conducting subsequent work with the following platform: CPU\n",
      "conducting subsequent work with the following platform: CPU\n",
      "conducting subsequent work with the following platform: CPU\n",
      "conducting subsequent work with the following platform: CPU\n",
      "added energy components: {'CustomBondForce': -58.119818301886426, 'CustomAngleForce': 12.010081935566392, 'CustomTorsionForce': 3.4306500290168342}\n"
     ]
    }
   ],
   "source": [
    "# How to run the protocol\n",
    "from perses.protocols.nonequilibrium_cycling import NonEquilibriumCycling\n",
    "from gufe.protocols.protocoldag import execute\n",
    "neq_cycling = NonEquilibriumCycling(settings)\n",
    "dag_result = execute(neq_cycling.create(stateA=system_a, \n",
    "                                        stateB=system_b, \n",
    "                                        mapping=mapping,\n",
    "                                       )\n",
    "                    )"
   ]
  },
  {
   "cell_type": "code",
   "execution_count": 7,
   "id": "60a8d66c",
   "metadata": {},
   "outputs": [
    {
     "data": {
      "text/plain": [
       "True"
      ]
     },
     "execution_count": 7,
     "metadata": {},
     "output_type": "execute_result"
    }
   ],
   "source": [
    "dag_result.ok()"
   ]
  },
  {
   "cell_type": "code",
   "execution_count": 8,
   "id": "028b1a00",
   "metadata": {},
   "outputs": [
    {
     "data": {
      "text/plain": [
       "[]"
      ]
     },
     "execution_count": 8,
     "metadata": {},
     "output_type": "execute_result"
    }
   ],
   "source": [
    "dag_result.protocol_unit_failures"
   ]
  },
  {
   "cell_type": "code",
   "execution_count": 9,
   "id": "0e14af4a",
   "metadata": {},
   "outputs": [
    {
     "ename": "IndexError",
     "evalue": "list index out of range",
     "output_type": "error",
     "traceback": [
      "\u001b[0;31m---------------------------------------------------------------------------\u001b[0m",
      "\u001b[0;31mIndexError\u001b[0m                                Traceback (most recent call last)",
      "Cell \u001b[0;32mIn [9], line 1\u001b[0m\n\u001b[0;32m----> 1\u001b[0m failure \u001b[38;5;241m=\u001b[39m \u001b[43mdag_result\u001b[49m\u001b[38;5;241;43m.\u001b[39;49m\u001b[43mprotocol_unit_failures\u001b[49m\u001b[43m[\u001b[49m\u001b[38;5;241;43m0\u001b[39;49m\u001b[43m]\u001b[49m\n",
      "\u001b[0;31mIndexError\u001b[0m: list index out of range"
     ]
    }
   ],
   "source": [
    "failure = dag_result.protocol_unit_failures[0]"
   ]
  },
  {
   "cell_type": "code",
   "execution_count": 10,
   "id": "6e091315",
   "metadata": {},
   "outputs": [
    {
     "ename": "NameError",
     "evalue": "name 'failure' is not defined",
     "output_type": "error",
     "traceback": [
      "\u001b[0;31m---------------------------------------------------------------------------\u001b[0m",
      "\u001b[0;31mNameError\u001b[0m                                 Traceback (most recent call last)",
      "Cell \u001b[0;32mIn [10], line 1\u001b[0m\n\u001b[0;32m----> 1\u001b[0m \u001b[38;5;28mprint\u001b[39m(\u001b[43mfailure\u001b[49m\u001b[38;5;241m.\u001b[39mtraceback)\n",
      "\u001b[0;31mNameError\u001b[0m: name 'failure' is not defined"
     ]
    }
   ],
   "source": [
    "print(failure.traceback)"
   ]
  },
  {
   "cell_type": "code",
   "execution_count": 11,
   "id": "4a0a30d5",
   "metadata": {},
   "outputs": [],
   "source": [
    "a = dag_result.protocol_unit_results[0]"
   ]
  },
  {
   "cell_type": "code",
   "execution_count": 14,
   "id": "6adf7e1e",
   "metadata": {},
   "outputs": [
    {
     "data": {
      "text/plain": [
       "{'DDG': -33.62820884362574,\n",
       " 'dDDG': 3.725290298461914e-09,\n",
       " 'paths': {'forward_work': '/tmp/tmp54sbz1z6/forward_vacuum.npy',\n",
       "  'reverse_work': '/tmp/tmp54sbz1z6/reverse_vacuum.npy'}}"
      ]
     },
     "execution_count": 14,
     "metadata": {},
     "output_type": "execute_result"
    }
   ],
   "source": [
    "dag_result.protocol_unit_results[1].outputs"
   ]
  },
  {
   "cell_type": "code",
   "execution_count": 18,
   "id": "7c14c054",
   "metadata": {},
   "outputs": [],
   "source": [
    "result_graph = dag_result.result_graph"
   ]
  },
  {
   "cell_type": "code",
   "execution_count": 19,
   "id": "811c4f69",
   "metadata": {},
   "outputs": [
    {
     "data": {
      "text/plain": [
       "NodeView((ProtocolUnitResult(None), ProtocolUnitResult(result)))"
      ]
     },
     "execution_count": 19,
     "metadata": {},
     "output_type": "execute_result"
    }
   ],
   "source": [
    "result_graph.nodes"
   ]
  },
  {
   "cell_type": "code",
   "execution_count": 20,
   "id": "401a4507",
   "metadata": {},
   "outputs": [
    {
     "data": {
      "text/plain": [
       "NodeView((SimulationUnit(None), ResultUnit(result)))"
      ]
     },
     "execution_count": 20,
     "metadata": {},
     "output_type": "execute_result"
    }
   ],
   "source": [
    "dag_result.graph.nodes"
   ]
  },
  {
   "cell_type": "code",
   "execution_count": null,
   "id": "1be4439e",
   "metadata": {},
   "outputs": [],
   "source": []
  }
 ],
 "metadata": {
  "kernelspec": {
   "display_name": "Python 3 (ipykernel)",
   "language": "python",
   "name": "python3"
  },
  "language_info": {
   "codemirror_mode": {
    "name": "ipython",
    "version": 3
   },
   "file_extension": ".py",
   "mimetype": "text/x-python",
   "name": "python",
   "nbconvert_exporter": "python",
   "pygments_lexer": "ipython3",
   "version": "3.10.6"
  }
 },
 "nbformat": 4,
 "nbformat_minor": 5
}
