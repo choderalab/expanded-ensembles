{
 "cells": [
  {
   "cell_type": "code",
   "execution_count": null,
   "id": "95403ec7",
   "metadata": {},
   "outputs": [],
   "source": [
    "from perses.protocols.nonequilibrium_cycling import SimulationUnit, ResultUnit\n",
    "from gufe import ChemicalSystem, SmallMoleculeComponent, ProteinComponent, SolventComponent\n"
   ]
  },
  {
   "cell_type": "code",
   "execution_count": null,
   "id": "19178e5f",
   "metadata": {},
   "outputs": [],
   "source": [
    "protein_comp = ProteinComponent.from_pdb_file(\"Tyk2_protein.pdb\")\n",
    "ligand_a_comp = SmallMoleculeComponent.from_sdf_file('ejm_31.sdf')\n",
    "ligand_b_comp = SmallMoleculeComponent.from_sdf_file('jmc_30.sdf')\n",
    "state_a_full = {'protein': protein_comp, 'ligand': ligand_a_comp}\n",
    "state_b_full = {'protein': protein_comp, 'ligand': ligand_b_comp}\n",
    "state_a_ligand = {'ligand': ligand_a_comp}\n",
    "state_b_ligand = {'ligand': ligand_b_comp}\n",
    "\n",
    "system_a = ChemicalSystem(components=state_a_ligand)\n",
    "system_b = ChemicalSystem(components=state_b_ligand)\n"
   ]
  },
  {
   "cell_type": "code",
   "execution_count": null,
   "id": "35d71fed",
   "metadata": {},
   "outputs": [],
   "source": [
    "# mapping class implementation\n",
    "\n",
    "import gufe\n",
    "from typing import Any, Optional\n",
    "import numpy as np\n",
    "from numpy.typing import NDArray\n",
    "import json\n",
    "\n",
    "class LigandAtomMapping(gufe.AtomMapping):\n",
    "    \"\"\"Simple container with the mapping between two Molecules\n",
    "\n",
    "    \"\"\"\n",
    "    def __init__(\n",
    "        self,\n",
    "        componentA: SmallMoleculeComponent,\n",
    "        componentB: SmallMoleculeComponent,\n",
    "        componentA_to_componentB: dict[int, int],\n",
    "        annotations: Optional[dict[str, Any]] = None,\n",
    "    ):\n",
    "        \"\"\"\n",
    "        Parameters\n",
    "        ----------\n",
    "        componentA, componentB : SmallMoleculeComponent\n",
    "          the ligand molecules on either end of the mapping\n",
    "        componentA_to_componentB : dict[int, int]\n",
    "          correspondence of indices of atoms between the two ligands\n",
    "        annotations : dict[str, Any]\n",
    "          Mapping of annotation identifier to annotation data. Annotations may\n",
    "          contain arbitrary JSON-serializable data. Annotation identifiers\n",
    "          starting with ``ofe-`` may have special meaning in other parts of\n",
    "          OpenFE. ``score`` is a reserved annotation identifier.\n",
    "        \"\"\"\n",
    "        super().__init__(componentA, componentB)\n",
    "        self._compA_to_compB = componentA_to_componentB\n",
    "\n",
    "        if annotations is None:\n",
    "            # TODO: this should be a frozen dict\n",
    "            annotations = {}\n",
    "\n",
    "        self._annotations = annotations\n",
    "\n",
    "    @classmethod\n",
    "    def _defaults(self):\n",
    "        return {}\n",
    "\n",
    "    @property\n",
    "    def componentA_to_componentB(self) -> dict[int, int]:\n",
    "        return dict(self._compA_to_compB)\n",
    "\n",
    "    @property\n",
    "    def componentB_to_componentA(self) -> dict[int, int]:\n",
    "        return {v: k for k, v in self._compA_to_compB.items()}\n",
    "\n",
    "    @property\n",
    "    def componentA_unique(self):\n",
    "        return (i for i in range(self.componentA.to_rdkit().GetNumAtoms())\n",
    "                if i not in self._compA_to_compB)\n",
    "\n",
    "    @property\n",
    "    def componentB_unique(self):\n",
    "        return (i for i in range(self.componentB.to_rdkit().GetNumAtoms())\n",
    "                if i not in self._compA_to_compB.values())\n",
    "\n",
    "    @property\n",
    "    def annotations(self):\n",
    "        # return a copy (including copy of nested)\n",
    "        return json.loads(json.dumps(self._annotations))\n",
    "\n",
    "    def _to_dict(self):\n",
    "        \"\"\"Serialize to dict\"\"\"\n",
    "        return {\n",
    "            # openff serialization doesn't go deep, so stringify at this level\n",
    "            'componentA': json.dumps(self.componentA.to_dict(), sort_keys=True),\n",
    "            'componentB': json.dumps(self.componentB.to_dict(), sort_keys=True),\n",
    "            'componentA_to_componentB': self._compA_to_compB,\n",
    "            'annotations': json.dumps(self.annotations),\n",
    "        }\n",
    "\n",
    "    @classmethod\n",
    "    def _from_dict(cls, d: dict):\n",
    "        \"\"\"Deserialize from dict\"\"\"\n",
    "        # the mapping dict gets mangled sometimes\n",
    "        mapping = d['componentA_to_componentB']\n",
    "        fixed = {int(k): int(v) for k, v in mapping.items()}\n",
    "\n",
    "        return cls(\n",
    "            componentA=SmallMoleculeComponent.from_dict(\n",
    "                json.loads(d['componentA'])),\n",
    "            componentB=SmallMoleculeComponent.from_dict(\n",
    "                json.loads(d['componentB'])),\n",
    "            componentA_to_componentB=fixed,\n",
    "            annotations=json.loads(d['annotations'])\n",
    "        )\n",
    "\n",
    "    def __repr__(self):\n",
    "        return (f\"{self.__class__.__name__}(componentA={self.componentA!r}, \"\n",
    "                f\"componentB={self.componentB!r}, \"\n",
    "                f\"componentA_to_componentB={self._compA_to_compB!r}, \"\n",
    "                f\"annotations={self.annotations!r})\")\n",
    "\n",
    "    def _ipython_display_(self, d2d=None):  # pragma: no-cover\n",
    "        \"\"\"\n",
    "        Visualize atom mapping in a Jupyter Notebook.\n",
    "\n",
    "        Parameters\n",
    "        ---------\n",
    "        d2d : :class:`rdkit.Chem.Draw.rdMolDraw2D.MolDraw2D`\n",
    "            If desired specify an instance of a MolDraw2D object.\n",
    "            Default ``None`` will use the MolDraw2DCairo backend.\n",
    "\n",
    "        Returns\n",
    "        -------\n",
    "        Image: IPython.core.display.Image\n",
    "            Image of the atom map\n",
    "        \"\"\"\n",
    "        from IPython.display import Image, display\n",
    "\n",
    "        return display(Image(draw_mapping(self._compA_to_compB,\n",
    "                                          self.componentA.to_rdkit(),\n",
    "                                          self.componentB.to_rdkit(), d2d)))\n",
    "\n",
    "    def draw_to_file(self, fname: str, d2d=None):\n",
    "        \"\"\"\n",
    "        Save atom map visualization to disk\n",
    "\n",
    "        Parameters\n",
    "        ---------\n",
    "        d2d : :class:`rdkit.Chem.Draw.rdMolDraw2D.MolDraw2D`\n",
    "            If desired specify an instance of a MolDraw2D object.\n",
    "            Default ``None`` will write a .png file using the MolDraw2DCairo\n",
    "            backend.\n",
    "\n",
    "        fname : str\n",
    "            Name of file to save atom map\n",
    "        \"\"\"\n",
    "        data = draw_mapping(self._compA_to_compB, self.componentA.to_rdkit(),\n",
    "                            self.componentB.to_rdkit(), d2d)\n",
    "        if type(data) == bytes:\n",
    "            mode = \"wb\"\n",
    "        else:\n",
    "            mode = \"w\"\n",
    "\n",
    "        with open(fname, mode) as f:\n",
    "            f.write(draw_mapping(self._compA_to_compB, self.componentA.to_rdkit(),\n",
    "                                 self.componentB.to_rdkit(), d2d))\n",
    "\n",
    "    def with_annotations(self, annotations: dict[str, Any]):\n",
    "        \"\"\"Create an new mapping based on this one with extra annotations.\n",
    "\n",
    "        Parameters\n",
    "        ----------\n",
    "        annotations : dict[str, Any]\n",
    "            Annotation update for this mapping. New annotation keys will be\n",
    "            added to the annotations dict; existing keys will be replaced by\n",
    "            the data provided here.\n",
    "        \"\"\"\n",
    "        return self.__class__(\n",
    "            componentA=self.componentA,\n",
    "            componentB=self.componentB,\n",
    "            componentA_to_componentB=self._compA_to_compB,\n",
    "            annotations=dict(**self.annotations, **annotations)\n",
    "        )\n",
    "\n",
    "    def get_distances(self) -> NDArray[np.float64]:\n",
    "        \"\"\"Return the distances between pairs of atoms in the mapping\"\"\"\n",
    "        dists = []\n",
    "        molA = self.componentA.to_rdkit().GetConformer()\n",
    "        molB = self.componentB.to_rdkit().GetConformer()\n",
    "        for i, j in self._compA_to_compB.items():\n",
    "            dA = molA.GetAtomPosition(i)\n",
    "            dB = molB.GetAtomPosition(j)\n",
    "            dists.append(dA.Distance(dB))\n",
    "\n",
    "        return np.array(dists)"
   ]
  },
  {
   "cell_type": "code",
   "execution_count": null,
   "id": "5d417279",
   "metadata": {},
   "outputs": [],
   "source": [
    "# Build gufe mapping object\n",
    "from gufe.mapping.atom_mapping import AtomMapping\n",
    "# Extracted from perses AtomMapper\n",
    "mapping_dict = {0: 0,\n",
    " 1: 1,\n",
    " 2: 2,\n",
    " 3: 3,\n",
    " 4: 4,\n",
    " 5: 5,\n",
    " 6: 6,\n",
    " 7: 7,\n",
    " 8: 8,\n",
    " 9: 9,\n",
    " 10: 10,\n",
    " 11: 11,\n",
    " 12: 12,\n",
    " 13: 13,\n",
    " 14: 14,\n",
    " 15: 15,\n",
    " 16: 16,\n",
    " 17: 17,\n",
    " 18: 18,\n",
    " 23: 20,\n",
    " 26: 22,\n",
    " 27: 23,\n",
    " 28: 24,\n",
    " 29: 25,\n",
    " 30: 26,\n",
    " 31: 27,\n",
    " 32: 28,\n",
    " 33: 29}\n",
    "mapping = LigandAtomMapping(\n",
    "    componentA=system_a.components['ligand'],\n",
    "    componentB=system_b.components['ligand'],\n",
    "    componentA_to_componentB=mapping_dict)"
   ]
  },
  {
   "cell_type": "code",
   "execution_count": null,
   "id": "c00bf2fc",
   "metadata": {},
   "outputs": [],
   "source": [
    "from openff.units import unit\n",
    "# Build Settings gufe object\n",
    "from gufe.settings.models import (\n",
    "    Settings, \n",
    "    ThermoSettings, \n",
    "    ForcefieldSettings,\n",
    ")\n",
    "from perses.protocols.settings import NonEqCyclingSettings\n",
    "settings = Settings(\n",
    "    settings_version=0,\n",
    "    forcefield_file=\"foobar.xml\", \n",
    "    forcefield_settings=ForcefieldSettings(),\n",
    "    thermo_settings=ThermoSettings(temperature=300*unit.kelvin),\n",
    "    protocol_settings=NonEqCyclingSettings(),\n",
    ")\n",
    "# non_eq_settings = settings.NonEqCyclingSettings()"
   ]
  },
  {
   "cell_type": "code",
   "execution_count": null,
   "id": "d32248ce",
   "metadata": {},
   "outputs": [],
   "source": [
    "settings.json()"
   ]
  },
  {
   "cell_type": "code",
   "execution_count": null,
   "id": "7fa76170",
   "metadata": {},
   "outputs": [],
   "source": [
    "settings.dict()"
   ]
  },
  {
   "cell_type": "code",
   "execution_count": null,
   "id": "460141b6",
   "metadata": {
    "scrolled": true
   },
   "outputs": [],
   "source": [
    "# Debugging SimulationUnit\n",
    "simulation = SimulationUnit(state_a=system_a, state_b=system_b, mapping=mapping, settings=settings)\n",
    "result = simulation.execute(shared='/tmp/', **simulation.inputs)\n"
   ]
  },
  {
   "cell_type": "code",
   "execution_count": null,
   "id": "e124d42c",
   "metadata": {},
   "outputs": [],
   "source": [
    "result.ok()"
   ]
  },
  {
   "cell_type": "code",
   "execution_count": null,
   "id": "3b8a335f",
   "metadata": {},
   "outputs": [],
   "source": [
    "print(result.traceback)"
   ]
  },
  {
   "cell_type": "code",
   "execution_count": null,
   "id": "0a05ac88",
   "metadata": {},
   "outputs": [],
   "source": [
    "# GatherUnit -- Results\n",
    "neq_results = ResultUnit(phase=\"vacuum\")\n",
    "# result = neq_results.execute(shared='/tmp/', **neq_results.inputs)\n",
    "result = neq_results.execute(shared='/tmp/', **neq_results.inputs)"
   ]
  },
  {
   "cell_type": "code",
   "execution_count": null,
   "id": "887c4a29",
   "metadata": {},
   "outputs": [],
   "source": [
    "result.outputs"
   ]
  },
  {
   "cell_type": "code",
   "execution_count": null,
   "id": "a8f3d380",
   "metadata": {},
   "outputs": [],
   "source": [
    "# Running the NonEq Cycling Protocol\n",
    "from perses.protocols.nonequilibrium_cycling import NonEquilibriumCyclingProtocol\n",
    "from gufe.protocols.protocoldag import execute_DAG\n",
    "neq_cycling = NonEquilibriumCyclingProtocol(settings)\n",
    "dag_result = execute_DAG(neq_cycling.create(stateA=system_a, \n",
    "                                            stateB=system_b, \n",
    "                                            mapping=mapping,\n",
    "                                           )\n",
    "                        )"
   ]
  },
  {
   "cell_type": "code",
   "execution_count": null,
   "id": "60a8d66c",
   "metadata": {},
   "outputs": [],
   "source": [
    "dag_result.ok()"
   ]
  },
  {
   "cell_type": "code",
   "execution_count": null,
   "id": "028b1a00",
   "metadata": {},
   "outputs": [],
   "source": [
    "dag_result.protocol_unit_failures"
   ]
  },
  {
   "cell_type": "code",
   "execution_count": null,
   "id": "0e14af4a",
   "metadata": {},
   "outputs": [],
   "source": [
    "failure = dag_result.protocol_unit_failures[0]"
   ]
  },
  {
   "cell_type": "code",
   "execution_count": null,
   "id": "6e091315",
   "metadata": {},
   "outputs": [],
   "source": [
    "print(failure.traceback)"
   ]
  },
  {
   "cell_type": "code",
   "execution_count": null,
   "id": "4a0a30d5",
   "metadata": {},
   "outputs": [],
   "source": [
    "dag_result.protocol_unit_results[0].outputs"
   ]
  },
  {
   "cell_type": "code",
   "execution_count": null,
   "id": "6adf7e1e",
   "metadata": {},
   "outputs": [],
   "source": [
    "dag_result.protocol_unit_results[1].outputs"
   ]
  },
  {
   "cell_type": "code",
   "execution_count": null,
   "id": "ffb2a92c",
   "metadata": {},
   "outputs": [],
   "source": [
    "dag_result.terminal_protocol_unit_results()[0].outputs"
   ]
  },
  {
   "cell_type": "code",
   "execution_count": null,
   "id": "70b0c17f",
   "metadata": {},
   "outputs": [],
   "source": [
    "protocol_result = neq_cycling.gather([dag_result])"
   ]
  },
  {
   "cell_type": "code",
   "execution_count": null,
   "id": "a5f535d0",
   "metadata": {},
   "outputs": [],
   "source": [
    "protocol_result.data"
   ]
  },
  {
   "cell_type": "code",
   "execution_count": null,
   "id": "7c14c054",
   "metadata": {},
   "outputs": [],
   "source": [
    "result_graph = dag_result.result_graph"
   ]
  },
  {
   "cell_type": "code",
   "execution_count": null,
   "id": "811c4f69",
   "metadata": {},
   "outputs": [],
   "source": [
    "result_graph.nodes"
   ]
  },
  {
   "cell_type": "code",
   "execution_count": null,
   "id": "401a4507",
   "metadata": {},
   "outputs": [],
   "source": [
    "dag_result.graph.nodes"
   ]
  },
  {
   "cell_type": "code",
   "execution_count": null,
   "id": "3421a7d5",
   "metadata": {},
   "outputs": [],
   "source": []
  }
 ],
 "metadata": {
  "kernelspec": {
   "display_name": "Python 3 (ipykernel)",
   "language": "python",
   "name": "python3"
  },
  "language_info": {
   "codemirror_mode": {
    "name": "ipython",
    "version": 3
   },
   "file_extension": ".py",
   "mimetype": "text/x-python",
   "name": "python",
   "nbconvert_exporter": "python",
   "pygments_lexer": "ipython3",
   "version": "3.10.6"
  }
 },
 "nbformat": 4,
 "nbformat_minor": 5
}
