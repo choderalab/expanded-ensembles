{
 "cells": [
  {
   "cell_type": "code",
   "execution_count": null,
   "id": "7e1ce912",
   "metadata": {},
   "outputs": [],
   "source": [
    "import json\n",
    "import os\n",
    "import yaml\n",
    "from alchemiscale import AlchemiscaleClient, Scope\n",
    "from openff.units import unit\n",
    "from openff.toolkit import Molecule\n",
    "from perses.protocols import NonEquilibriumCyclingProtocol\n",
    "from gufe import ChemicalSystem, SmallMoleculeComponent, ProteinComponent, SolventComponent, AlchemicalNetwork, tokenization\n",
    "from gufe.mapping.ligandatommapping import LigandAtomMapping\n",
    "from gufe.transformations import Transformation"
   ]
  },
  {
   "cell_type": "code",
   "execution_count": null,
   "id": "410e76b7",
   "metadata": {},
   "outputs": [],
   "source": [
    "# Helper functions\n",
    "def get_molecule_from_name(name: str, mol_list: list[Molecule]):\n",
    "    \"\"\"Get the OpenFF molecule from a list that matches the specified name.\n",
    "    \n",
    "    Returns the molecule if found, else None.    \n",
    "    \"\"\"\n",
    "    for molecule in mol_list:\n",
    "        if molecule.name == name:\n",
    "            matched_mol = molecule\n",
    "            break\n",
    "    else:\n",
    "        matched_mol = None\n",
    "    \n",
    "    return matched_mol"
   ]
  },
  {
   "cell_type": "code",
   "execution_count": null,
   "id": "1b4b32a8",
   "metadata": {},
   "outputs": [],
   "source": [
    "# Load target/protein\n",
    "protein_comp = ProteinComponent.from_pdb_file(\"tyk2_protein.pdb\", name=\"Tyk2\")\n",
    "# Load ligands to match with edges\n",
    "ligands = Molecule.from_file(\"tyk2_ligands.sdf\")\n",
    "# Solvent component\n",
    "solvent_comp = SolventComponent(\n",
    "    ion_concentration=0.15*unit.molar,\n",
    "    positive_ion=\"Na\",\n",
    "    negative_ion=\"Cl\"\n",
    ")    "
   ]
  },
  {
   "cell_type": "code",
   "execution_count": null,
   "id": "f3ac22c0",
   "metadata": {},
   "outputs": [],
   "source": [
    "# Extract edges information from YAML file -- Build ChemicalSystems and AlchemicalNetworks\n",
    "with open(\"tyk2_edges.yml\") as edges_file:\n",
    "    edges_source = yaml.safe_load(edges_file)\n",
    "    \n",
    "# Load default settings for protocol\n",
    "settings = NonEquilibriumCyclingProtocol.default_settings()\n",
    "# Use latest (to date) openff-2.1.0 instead of default openff-2.0.0\n",
    "settings.forcefield_settings.small_molecule_forcefield = \"openff-2.1.0\"\n",
    "neq_protocol = NonEquilibriumCyclingProtocol(settings=settings)\n",
    "\n",
    "solvent_transformations = []\n",
    "complex_transformations = []\n",
    "alchemical_nodes = []\n",
    "for edge_name, data in edges_source[\"edges\"].items():\n",
    "    ligand_a_name = data[\"ligand_a\"]\n",
    "    ligand_b_name = data[\"ligand_b\"]\n",
    "    atom_mapping = data[\"atom mapping\"]\n",
    "    # Get OFF molecule and build SmallMoleculeComponent\n",
    "    ligand_a = get_molecule_from_name(ligand_a_name, ligands)\n",
    "    ligand_b = get_molecule_from_name(ligand_b_name, ligands)\n",
    "    small_mol_a = SmallMoleculeComponent.from_openff(ligand_a)\n",
    "    small_mol_b = SmallMoleculeComponent.from_openff(ligand_b)\n",
    "    # Build state dictionaries -- useful for instantiating the ChemicalSystems\n",
    "    state_a_complex = {\"protein\": protein_comp, \"ligand\": small_mol_a, \"solvent\": solvent_comp}\n",
    "    state_b_complex = {\"protein\": protein_comp, \"ligand\": small_mol_b, \"solvent\": solvent_comp}\n",
    "    state_a_solvent = {\"ligand\": small_mol_a, \"solvent\": solvent_comp}\n",
    "    state_b_solvent = {\"ligand\": small_mol_b, \"solvent\": solvent_comp}\n",
    "    # Build ChemicalSystem from state dictionaries\n",
    "    system_a_complex = ChemicalSystem(components=state_a_complex)\n",
    "    system_b_complex = ChemicalSystem(components=state_b_complex)\n",
    "    system_a_solvent = ChemicalSystem(components=state_a_solvent)\n",
    "    system_b_solvent = ChemicalSystem(components=state_b_solvent)\n",
    "    # Add to alchemical transformation nodes\n",
    "    alchemical_nodes.extend([system_a_complex, system_a_solvent, system_b_complex, system_b_solvent])\n",
    "    # Fill transformations iterables\n",
    "    solvent_transformations.append(\n",
    "        Transformation(\n",
    "            stateA=system_a_solvent,\n",
    "            stateB=system_b_solvent,\n",
    "            mapping={\"ligand\": atom_mapping},\n",
    "            protocol=neq_protocol,\n",
    "        )\n",
    "    )\n",
    "    complex_transformations.append(\n",
    "        Transformation(\n",
    "            stateA=system_a_complex,\n",
    "            stateB=system_b_complex,\n",
    "            mapping={\"ligand\": atom_mapping},\n",
    "            protocol=neq_protocol,\n",
    "        )\n",
    "    )\n",
    "\n",
    "# Create alchemical network joining all the transformations/edges together\n",
    "network = AlchemicalNetwork(\n",
    "    edges=(solvent_transformations + complex_transformations),\n",
    "    nodes=alchemical_nodes,\n",
    "    name=\"tyk2_plbenchmarks_off2.0\",\n",
    ")\n",
    "# print generated network and serialize\n",
    "print(\"generated network: \", network)\n",
    "with open('network.json', 'w') as f:\n",
    "    json.dump(network.to_dict(), f, cls=tokenization.JSON_HANDLER.encoder)"
   ]
  },
  {
   "cell_type": "markdown",
   "id": "53df7cb3",
   "metadata": {},
   "source": [
    "To create and actions tasks we need to have an active running alchemiscale client session"
   ]
  },
  {
   "cell_type": "code",
   "execution_count": null,
   "id": "575cd9ff",
   "metadata": {},
   "outputs": [],
   "source": [
    "# Set alchemiscale client up\n",
    "user_id = os.environ['ALCHEMISCALE_ID']\n",
    "user_key = os.environ['ALCHEMISCALE_KEY']\n",
    "asc =  AlchemiscaleClient('https://api.alchemiscale.org', user_id, user_key)\n",
    "asc.list_scopes()  # print available scopes for these credentials\n",
    "# Get an scope we want to use to action tasks\n",
    "scope = Scope('choderalab', 'plbenchmarks', 'tyk2_off2_1')"
   ]
  },
  {
   "cell_type": "code",
   "execution_count": null,
   "id": "7328cdef",
   "metadata": {},
   "outputs": [],
   "source": [
    "asc.get_scoped_key(network, scope)"
   ]
  },
  {
   "cell_type": "code",
   "execution_count": null,
   "id": "f127f564",
   "metadata": {},
   "outputs": [],
   "source": [
    "# Create and actions tasks -- example 100 runs per edge for NEQ cycling\n",
    "network_sk = asc.create_network(network, scope)\n",
    "whole_tasks = []\n",
    "for transform_sk in asc.get_network_transformations(network_sk):\n",
    "    tasks = asc.create_tasks(transform_sk, count=100)\n",
    "    whole_tasks.extend(tasks)\n",
    "asc.action_tasks(whole_tasks, network_sk)"
   ]
  },
  {
   "cell_type": "code",
   "execution_count": null,
   "id": "f6497834",
   "metadata": {},
   "outputs": [],
   "source": []
  }
 ],
 "metadata": {
  "kernelspec": {
   "display_name": "Python 3 (ipykernel)",
   "language": "python",
   "name": "python3"
  },
  "language_info": {
   "codemirror_mode": {
    "name": "ipython",
    "version": 3
   },
   "file_extension": ".py",
   "mimetype": "text/x-python",
   "name": "python",
   "nbconvert_exporter": "python",
   "pygments_lexer": "ipython3",
   "version": "3.10.12"
  }
 },
 "nbformat": 4,
 "nbformat_minor": 5
}
